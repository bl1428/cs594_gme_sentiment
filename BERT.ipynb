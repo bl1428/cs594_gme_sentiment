{
 "cells": [
  {
   "cell_type": "markdown",
   "source": [
    "### Environment Setting"
   ],
   "metadata": {
    "collapsed": false
   }
  },
  {
   "cell_type": "markdown",
   "source": [
    "python 3.7\n",
    "pip install tensorflow==1.15\n",
    "pip install --upgrade tensorflow-hub\n",
    "pip install bert-tensorflow==1.0.1"
   ],
   "metadata": {
    "collapsed": false
   }
  },
  {
   "cell_type": "markdown",
   "source": [
    "# BERT model builder"
   ],
   "metadata": {
    "collapsed": false,
    "pycharm": {
     "name": "#%% md\n"
    }
   }
  },
  {
   "cell_type": "code",
   "execution_count": 1,
   "outputs": [
    {
     "name": "stdout",
     "output_type": "stream",
     "text": [
      "WARNING:tensorflow:From C:\\Users\\sluge\\Downloads\\CS594_new\\cs594_gme_sentiment\\venv\\lib\\site-packages\\bert\\optimization.py:87: The name tf.train.Optimizer is deprecated. Please use tf.compat.v1.train.Optimizer instead.\n",
      "\n"
     ]
    }
   ],
   "source": [
    "import tensorflow as tf\n",
    "import tensorflow_hub as hub\n",
    "import pickle\n",
    "import bert\n",
    "from bert import run_classifier\n",
    "from bert import optimization\n",
    "from bert import tokenization\n",
    "import random\n",
    "random.seed(594)\n",
    "import ssl\n",
    "ssl._create_default_https_context = ssl._create_unverified_context"
   ],
   "metadata": {
    "collapsed": false,
    "pycharm": {
     "name": "#%%\n"
    }
   }
  },
  {
   "cell_type": "code",
   "execution_count": 2,
   "outputs": [],
   "source": [
    "def pretty_print(result):\n",
    "    df = pd.DataFrame([result]).T\n",
    "    df.columns = [\"values\"]\n",
    "    return df"
   ],
   "metadata": {
    "collapsed": false,
    "pycharm": {
     "name": "#%%\n"
    }
   }
  },
  {
   "cell_type": "code",
   "execution_count": 3,
   "outputs": [],
   "source": [
    "def create_tokenizer_from_hub_module(bert_model_hub):\n",
    "  \"\"\"Get the vocab file and casing info from the Hub module.\"\"\"\n",
    "  with tf.Graph().as_default():\n",
    "    bert_module = hub.Module(bert_model_hub)\n",
    "    tokenization_info = bert_module(signature=\"tokenization_info\", as_dict=True)\n",
    "    with tf.Session() as sess:\n",
    "      vocab_file, do_lower_case = sess.run([tokenization_info[\"vocab_file\"],\n",
    "                                            tokenization_info[\"do_lower_case\"]])\n",
    "\n",
    "  return bert.tokenization.FullTokenizer(\n",
    "      vocab_file=vocab_file, do_lower_case=do_lower_case)\n",
    "\n",
    "def make_features(dataset, label_list, MAX_SEQ_LENGTH, tokenizer, DATA_COLUMN, LABEL_COLUMN):\n",
    "    input_example = dataset.apply(lambda x: bert.run_classifier.InputExample(guid=None,\n",
    "                                                                   text_a = x[DATA_COLUMN],\n",
    "                                                                   text_b = None,\n",
    "                                                                   label = x[LABEL_COLUMN]), axis = 1)\n",
    "    features = bert.run_classifier.convert_examples_to_features(input_example, label_list, MAX_SEQ_LENGTH, tokenizer)\n",
    "    return features\n",
    "\n",
    "def create_model(bert_model_hub, is_predicting, input_ids, input_mask, segment_ids, labels,\n",
    "                 num_labels):\n",
    "  \"\"\"Creates a classification model.\"\"\"\n",
    "\n",
    "  bert_module = hub.Module(\n",
    "      bert_model_hub,\n",
    "      trainable=True)\n",
    "  bert_inputs = dict(\n",
    "      input_ids=input_ids,\n",
    "      input_mask=input_mask,\n",
    "      segment_ids=segment_ids)\n",
    "  bert_outputs = bert_module(\n",
    "      inputs=bert_inputs,\n",
    "      signature=\"tokens\",\n",
    "      as_dict=True)\n",
    "\n",
    "  # Use \"pooled_output\" for classification tasks on an entire sentence.\n",
    "  # Use \"sequence_outputs\" for token-level output.\n",
    "  output_layer = bert_outputs[\"pooled_output\"]\n",
    "\n",
    "  hidden_size = output_layer.shape[-1].value\n",
    "\n",
    "  # Create our own layer to tune for politeness data.\n",
    "  output_weights = tf.get_variable(\n",
    "      \"output_weights\", [num_labels, hidden_size],\n",
    "      initializer=tf.truncated_normal_initializer(stddev=0.02))\n",
    "\n",
    "  output_bias = tf.get_variable(\n",
    "      \"output_bias\", [num_labels], initializer=tf.zeros_initializer())\n",
    "\n",
    "  with tf.variable_scope(\"loss\"):\n",
    "\n",
    "    # Dropout helps prevent overfitting\n",
    "    output_layer = tf.nn.dropout(output_layer, keep_prob=0.9)\n",
    "\n",
    "    logits = tf.matmul(output_layer, output_weights, transpose_b=True)\n",
    "    logits = tf.nn.bias_add(logits, output_bias)\n",
    "    log_probs = tf.nn.log_softmax(logits, axis=-1)\n",
    "\n",
    "    # Convert labels into one-hot encoding\n",
    "    one_hot_labels = tf.one_hot(labels, depth=num_labels, dtype=tf.float32)\n",
    "\n",
    "    predicted_labels = tf.squeeze(tf.argmax(log_probs, axis=-1, output_type=tf.int32))\n",
    "    # If we're predicting, we want predicted labels and the probabiltiies.\n",
    "    if is_predicting:\n",
    "      return (predicted_labels, log_probs)\n",
    "\n",
    "    # If we're train/eval, compute loss between predicted and actual label\n",
    "    per_example_loss = -tf.reduce_sum(one_hot_labels * log_probs, axis=-1)\n",
    "    loss = tf.reduce_mean(per_example_loss)\n",
    "    return (loss, predicted_labels, log_probs)\n",
    "\n",
    "# model_fn_builder actually creates our model function\n",
    "# using the passed parameters for num_labels, learning_rate, etc.\n",
    "def model_fn_builder(bert_model_hub, num_labels, learning_rate, num_train_steps,\n",
    "                     num_warmup_steps):\n",
    "  \"\"\"Returns `model_fn` closure for TPUEstimator.\"\"\"\n",
    "  def model_fn(features, labels, mode, params):  # pylint: disable=unused-argument\n",
    "    \"\"\"The `model_fn` for TPUEstimator.\"\"\"\n",
    "\n",
    "    input_ids = features[\"input_ids\"]\n",
    "    input_mask = features[\"input_mask\"]\n",
    "    segment_ids = features[\"segment_ids\"]\n",
    "    label_ids = features[\"label_ids\"]\n",
    "\n",
    "    is_predicting = (mode == tf.estimator.ModeKeys.PREDICT)\n",
    "\n",
    "    # TRAIN and EVAL\n",
    "    if not is_predicting:\n",
    "\n",
    "      (loss, predicted_labels, log_probs) = create_model(\n",
    "        bert_model_hub, is_predicting, input_ids, input_mask, segment_ids, label_ids, num_labels)\n",
    "\n",
    "      train_op = bert.optimization.create_optimizer(\n",
    "          loss, learning_rate, num_train_steps, num_warmup_steps, use_tpu=False)\n",
    "\n",
    "      # Calculate evaluation metrics.\n",
    "      def metric_fn(label_ids, predicted_labels):\n",
    "        accuracy = tf.metrics.accuracy(label_ids, predicted_labels)\n",
    "        # f1_score = tf.contrib.metrics.f1_score(\n",
    "        #     label_ids,\n",
    "        #     predicted_labels)\n",
    "        # auc = tf.metrics.auc(\n",
    "        #     label_ids,\n",
    "        #     predicted_labels)\n",
    "        recall = tf.metrics.recall(\n",
    "            label_ids,\n",
    "            predicted_labels)\n",
    "        precision = tf.metrics.precision(\n",
    "            label_ids,\n",
    "            predicted_labels)\n",
    "        true_pos = tf.metrics.true_positives(\n",
    "            label_ids,\n",
    "            predicted_labels)\n",
    "        true_neg = tf.metrics.true_negatives(\n",
    "            label_ids,\n",
    "            predicted_labels)\n",
    "        false_pos = tf.metrics.false_positives(\n",
    "            label_ids,\n",
    "            predicted_labels)\n",
    "        false_neg = tf.metrics.false_negatives(\n",
    "            label_ids,\n",
    "            predicted_labels)\n",
    "        return {\n",
    "            \"eval_accuracy\": accuracy,\n",
    "            # \"f1_score\": f1_score,\n",
    "            # \"auc\": auc,\n",
    "            \"precision\": precision,\n",
    "            \"recall\": recall,\n",
    "            \"true_positives\": true_pos,\n",
    "            \"true_negatives\": true_neg,\n",
    "            \"false_positives\": false_pos,\n",
    "            \"false_negatives\": false_neg\n",
    "        }\n",
    "\n",
    "      eval_metrics = metric_fn(label_ids, predicted_labels)\n",
    "\n",
    "      if mode == tf.estimator.ModeKeys.TRAIN:\n",
    "        return tf.estimator.EstimatorSpec(mode=mode,\n",
    "          loss=loss,\n",
    "          train_op=train_op)\n",
    "      else:\n",
    "          return tf.estimator.EstimatorSpec(mode=mode,\n",
    "            loss=loss,\n",
    "            eval_metric_ops=eval_metrics)\n",
    "    else:\n",
    "      (predicted_labels, log_probs) = create_model(\n",
    "        bert_model_hub, is_predicting, input_ids, input_mask, segment_ids, label_ids, num_labels)\n",
    "\n",
    "      predictions = {\n",
    "          'probabilities': log_probs,\n",
    "          'labels': predicted_labels\n",
    "      }\n",
    "      return tf.estimator.EstimatorSpec(mode, predictions=predictions)\n",
    "\n",
    "  # Return the actual model function in the closure\n",
    "  return model_fn\n",
    "\n",
    "def estimator_builder(bert_model_hub, OUTPUT_DIR, SAVE_SUMMARY_STEPS, SAVE_CHECKPOINTS_STEPS, label_list, LEARNING_RATE, num_train_steps, num_warmup_steps, LOG_STEP_COUNT_STEPS, BATCH_SIZE):\n",
    "\n",
    "    # Specify outpit directory and number of checkpoint steps to save\n",
    "    run_config = tf.estimator.RunConfig(\n",
    "        model_dir=OUTPUT_DIR,\n",
    "        save_summary_steps=SAVE_SUMMARY_STEPS,\n",
    "        log_step_count_steps=LOG_STEP_COUNT_STEPS,\n",
    "        save_checkpoints_steps=SAVE_CHECKPOINTS_STEPS)\n",
    "\n",
    "    model_fn = model_fn_builder(\n",
    "      bert_model_hub = bert_model_hub,\n",
    "      num_labels=len(label_list),\n",
    "      learning_rate=LEARNING_RATE,\n",
    "      num_train_steps=num_train_steps,\n",
    "      num_warmup_steps=num_warmup_steps)\n",
    "\n",
    "    estimator = tf.estimator.Estimator(\n",
    "      model_fn=model_fn,\n",
    "      config=run_config,\n",
    "      params={\"batch_size\": BATCH_SIZE})\n",
    "    return estimator, model_fn, run_config"
   ],
   "metadata": {
    "collapsed": false,
    "pycharm": {
     "name": "#%%\n"
    }
   }
  },
  {
   "cell_type": "code",
   "execution_count": 4,
   "outputs": [],
   "source": [
    "def run_on_dfs(train, test, DATA_COLUMN, LABEL_COLUMN,\n",
    "               MAX_SEQ_LENGTH = 128,\n",
    "              BATCH_SIZE = 32,\n",
    "              LEARNING_RATE = 2e-5,\n",
    "              NUM_TRAIN_EPOCHS = 3.0,\n",
    "              WARMUP_PROPORTION = 0.1,\n",
    "              SAVE_SUMMARY_STEPS = 100,\n",
    "                SAVE_CHECKPOINTS_STEPS = 10000,\n",
    "                LOG_STEP_COUNT_STEPS = 100,\n",
    "              bert_model_hub = \"https://tfhub.dev/google/bert_uncased_L-12_H-768_A-12/1\"):\n",
    "\n",
    "    label_list = train[LABEL_COLUMN].unique().tolist()\n",
    "\n",
    "    tokenizer = create_tokenizer_from_hub_module(bert_model_hub)\n",
    "\n",
    "    train_features = make_features(train, label_list, MAX_SEQ_LENGTH, tokenizer, DATA_COLUMN, LABEL_COLUMN)\n",
    "    test_features = make_features(test, label_list, MAX_SEQ_LENGTH, tokenizer, DATA_COLUMN, LABEL_COLUMN)\n",
    "\n",
    "    num_train_steps = int(len(train_features) / BATCH_SIZE * NUM_TRAIN_EPOCHS)\n",
    "    num_warmup_steps = int(num_train_steps * WARMUP_PROPORTION)\n",
    "\n",
    "    estimator, model_fn, run_config = estimator_builder(\n",
    "                                  bert_model_hub,\n",
    "                                  OUTPUT_DIR,\n",
    "                                  SAVE_SUMMARY_STEPS,\n",
    "                                  SAVE_CHECKPOINTS_STEPS,\n",
    "                                  label_list,\n",
    "                                  LEARNING_RATE,\n",
    "                                  num_train_steps,\n",
    "                                  num_warmup_steps,\n",
    "                                  LOG_STEP_COUNT_STEPS,\n",
    "                                  BATCH_SIZE)\n",
    "\n",
    "    train_input_fn = bert.run_classifier.input_fn_builder(\n",
    "        features=train_features,\n",
    "        seq_length=MAX_SEQ_LENGTH,\n",
    "        is_training=True,\n",
    "        drop_remainder=False)\n",
    "\n",
    "    estimator.train(input_fn=train_input_fn, max_steps=num_train_steps)\n",
    "\n",
    "    test_input_fn = run_classifier.input_fn_builder(\n",
    "        features=test_features,\n",
    "        seq_length=MAX_SEQ_LENGTH,\n",
    "        is_training=False,\n",
    "        drop_remainder=False)\n",
    "\n",
    "    result_dict = estimator.evaluate(input_fn=test_input_fn, steps=None)\n",
    "    return result_dict, estimator, test_input_fn, label_list"
   ],
   "metadata": {
    "collapsed": false,
    "pycharm": {
     "name": "#%%\n"
    }
   }
  },
  {
   "cell_type": "markdown",
   "source": [
    "# Load the dataset"
   ],
   "metadata": {
    "collapsed": false,
    "pycharm": {
     "name": "#%% md\n"
    }
   }
  },
  {
   "cell_type": "code",
   "execution_count": 5,
   "outputs": [],
   "source": [
    "# load the dataset\n",
    "import pandas as pd\n",
    "import numpy as np\n",
    "from sklearn.model_selection import train_test_split\n",
    "from sklearn.metrics import confusion_matrix, classification_report,accuracy_score, f1_score\n",
    "features_title = np.load('./TrainData/features_title.npy', allow_pickle=True)\n",
    "targets_title = np.load('./TrainData/targets_title.npy', allow_pickle=True)\n",
    "features_body = np.load('./TrainData/features_body.npy', allow_pickle=True)\n",
    "targets_body = np.load('./TrainData/targets_body.npy', allow_pickle=True)\n",
    "df_title = pd.DataFrame({'label': targets_title, 'text':features_title})\n",
    "df_body = pd.DataFrame({'label': targets_body,'text':features_body})"
   ],
   "metadata": {
    "collapsed": false,
    "pycharm": {
     "name": "#%%\n"
    }
   }
  },
  {
   "cell_type": "code",
   "execution_count": 6,
   "outputs": [
    {
     "data": {
      "text/plain": "   label                                               text\n0     -1       itnot about the money itabout sendingmessage\n1     -1  math professor scott steiner says the numbers ...\n2     -1                                    exit the system\n3     -1  new sec filing for gme can someone less retard...\n4     -1  not to distract from gme just thought our amc ...",
      "text/html": "<div>\n<style scoped>\n    .dataframe tbody tr th:only-of-type {\n        vertical-align: middle;\n    }\n\n    .dataframe tbody tr th {\n        vertical-align: top;\n    }\n\n    .dataframe thead th {\n        text-align: right;\n    }\n</style>\n<table border=\"1\" class=\"dataframe\">\n  <thead>\n    <tr style=\"text-align: right;\">\n      <th></th>\n      <th>label</th>\n      <th>text</th>\n    </tr>\n  </thead>\n  <tbody>\n    <tr>\n      <th>0</th>\n      <td>-1</td>\n      <td>itnot about the money itabout sendingmessage</td>\n    </tr>\n    <tr>\n      <th>1</th>\n      <td>-1</td>\n      <td>math professor scott steiner says the numbers ...</td>\n    </tr>\n    <tr>\n      <th>2</th>\n      <td>-1</td>\n      <td>exit the system</td>\n    </tr>\n    <tr>\n      <th>3</th>\n      <td>-1</td>\n      <td>new sec filing for gme can someone less retard...</td>\n    </tr>\n    <tr>\n      <th>4</th>\n      <td>-1</td>\n      <td>not to distract from gme just thought our amc ...</td>\n    </tr>\n  </tbody>\n</table>\n</div>"
     },
     "execution_count": 6,
     "metadata": {},
     "output_type": "execute_result"
    }
   ],
   "source": [
    "df_title.head()"
   ],
   "metadata": {
    "collapsed": false,
    "pycharm": {
     "name": "#%%\n"
    }
   }
  },
  {
   "cell_type": "code",
   "execution_count": 7,
   "outputs": [
    {
     "data": {
      "text/plain": "   label                                               text\n0     -1  the ceo of nasdaq pushed to halt trading to gi...\n1     -1  hedgefund whales are spreading disinfo saying ...\n2     -1  life isnfair my mother always told me that whe...\n3     -1  i believe right now is one of those rare oppor...\n4     -1  you guys are champs gme who would have thought...",
      "text/html": "<div>\n<style scoped>\n    .dataframe tbody tr th:only-of-type {\n        vertical-align: middle;\n    }\n\n    .dataframe tbody tr th {\n        vertical-align: top;\n    }\n\n    .dataframe thead th {\n        text-align: right;\n    }\n</style>\n<table border=\"1\" class=\"dataframe\">\n  <thead>\n    <tr style=\"text-align: right;\">\n      <th></th>\n      <th>label</th>\n      <th>text</th>\n    </tr>\n  </thead>\n  <tbody>\n    <tr>\n      <th>0</th>\n      <td>-1</td>\n      <td>the ceo of nasdaq pushed to halt trading to gi...</td>\n    </tr>\n    <tr>\n      <th>1</th>\n      <td>-1</td>\n      <td>hedgefund whales are spreading disinfo saying ...</td>\n    </tr>\n    <tr>\n      <th>2</th>\n      <td>-1</td>\n      <td>life isnfair my mother always told me that whe...</td>\n    </tr>\n    <tr>\n      <th>3</th>\n      <td>-1</td>\n      <td>i believe right now is one of those rare oppor...</td>\n    </tr>\n    <tr>\n      <th>4</th>\n      <td>-1</td>\n      <td>you guys are champs gme who would have thought...</td>\n    </tr>\n  </tbody>\n</table>\n</div>"
     },
     "execution_count": 7,
     "metadata": {},
     "output_type": "execute_result"
    }
   ],
   "source": [
    "df_body.head()"
   ],
   "metadata": {
    "collapsed": false,
    "pycharm": {
     "name": "#%%\n"
    }
   }
  },
  {
   "cell_type": "code",
   "execution_count": 9,
   "outputs": [
    {
     "ename": "TypeError",
     "evalue": "'type' object does not support item assignment",
     "output_type": "error",
     "traceback": [
      "\u001B[1;31m---------------------------------------------------------------------------\u001B[0m",
      "\u001B[1;31mTypeError\u001B[0m                                 Traceback (most recent call last)",
      "\u001B[1;32m<ipython-input-9-179ee95f9418>\u001B[0m in \u001B[0;36m<module>\u001B[1;34m\u001B[0m\n\u001B[0;32m      1\u001B[0m \u001B[0mdf_all\u001B[0m \u001B[1;33m=\u001B[0m \u001B[0mpd\u001B[0m\u001B[1;33m.\u001B[0m\u001B[0mDataFrame\u001B[0m\u001B[1;33m\u001B[0m\u001B[1;33m\u001B[0m\u001B[0m\n\u001B[1;32m----> 2\u001B[1;33m \u001B[0mdf_all\u001B[0m\u001B[1;33m[\u001B[0m\u001B[1;34m'text'\u001B[0m\u001B[1;33m]\u001B[0m \u001B[1;33m=\u001B[0m \u001B[0mdf_title\u001B[0m\u001B[1;33m[\u001B[0m\u001B[1;34m'text'\u001B[0m\u001B[1;33m]\u001B[0m\u001B[1;33m+\u001B[0m\u001B[0mdf_body\u001B[0m\u001B[1;33m[\u001B[0m\u001B[1;34m'text'\u001B[0m\u001B[1;33m]\u001B[0m\u001B[1;33m\u001B[0m\u001B[1;33m\u001B[0m\u001B[0m\n\u001B[0m\u001B[0;32m      3\u001B[0m \u001B[0mdf_all\u001B[0m\u001B[1;33m[\u001B[0m\u001B[1;34m'label'\u001B[0m\u001B[1;33m]\u001B[0m \u001B[1;33m=\u001B[0m \u001B[0mdf_title\u001B[0m\u001B[1;33m[\u001B[0m\u001B[1;34m'label'\u001B[0m\u001B[1;33m]\u001B[0m\u001B[1;33m\u001B[0m\u001B[1;33m\u001B[0m\u001B[0m\n\u001B[0;32m      4\u001B[0m \u001B[1;31m# df_all = df_all.sample(frac=1)\u001B[0m\u001B[1;33m\u001B[0m\u001B[1;33m\u001B[0m\u001B[1;33m\u001B[0m\u001B[0m\n\u001B[0;32m      5\u001B[0m \u001B[0mdf_all\u001B[0m\u001B[1;33m.\u001B[0m\u001B[0mhead\u001B[0m\u001B[1;33m(\u001B[0m\u001B[1;33m)\u001B[0m\u001B[1;33m\u001B[0m\u001B[1;33m\u001B[0m\u001B[0m\n",
      "\u001B[1;31mTypeError\u001B[0m: 'type' object does not support item assignment"
     ]
    }
   ],
   "source": [
    "# df_all = pd.DataFrame\n",
    "# df_all['text'] = df_title['text']+df_body['text']\n",
    "# df_all['label'] = df_title['label']\n",
    "# # df_all = df_all.sample(frac=1)\n",
    "# df_all.head()"
   ],
   "metadata": {
    "collapsed": false,
    "pycharm": {
     "name": "#%%\n"
    }
   }
  },
  {
   "cell_type": "code",
   "execution_count": 8,
   "outputs": [],
   "source": [
    "myparam = {\n",
    "        \"DATA_COLUMN\": \"text\",\n",
    "        \"LABEL_COLUMN\": \"label\",\n",
    "        \"MAX_SEQ_LENGTH\": 30,\n",
    "        \"LEARNING_RATE\": 2e-5,\n",
    "        \"SAVE_SUMMARY_STEPS\":25,\n",
    "        \"NUM_TRAIN_EPOCHS\":3,\n",
    "        \"BATCH_SIZE\": 16,\n",
    "        \"LOG_STEP_COUNT_STEPS\": 100,\n",
    "        \"bert_model_hub\":\"https://tfhub.dev/google/bert_uncased_L-12_H-768_A-12/1\"\n",
    "#         \"bert_model_hub\":\"https://tfhub.dev/google/bert_uncased_L-24_H-1024_A-16/1\"\n",
    "#         \"bert_model_hub\":\"https://tfhub.dev/digitalepidemiologylab/covid-twitter-bert/2\"\n",
    "    }"
   ],
   "metadata": {
    "collapsed": false,
    "pycharm": {
     "name": "#%%\n"
    }
   }
  },
  {
   "cell_type": "markdown",
   "source": [
    "# Fine-tuning\n",
    "### Training: Title dataset"
   ],
   "metadata": {
    "collapsed": false,
    "pycharm": {
     "name": "#%% md\n"
    }
   }
  },
  {
   "cell_type": "code",
   "source": [
    "OUTPUT_DIR = 'output_title'\n",
    "train_title, test_title = train_test_split(df_title, test_size=0.2, random_state=42)\n",
    "result_title, estimator_title, test_input_fn_title, label_list_title = run_on_dfs(train_title, test_title, **myparam)"
   ],
   "metadata": {
    "collapsed": false,
    "pycharm": {
     "name": "#%%\n"
    }
   },
   "execution_count": 9,
   "outputs": [
    {
     "name": "stdout",
     "output_type": "stream",
     "text": [
      "INFO:tensorflow:Saver not created because there are no variables in the graph to restore\n",
      "WARNING:tensorflow:From C:\\Users\\sluge\\Downloads\\CS594_new\\cs594_gme_sentiment\\venv\\lib\\site-packages\\bert\\tokenization.py:125: The name tf.gfile.GFile is deprecated. Please use tf.io.gfile.GFile instead.\n",
      "\n",
      "WARNING:tensorflow:From C:\\Users\\sluge\\Downloads\\CS594_new\\cs594_gme_sentiment\\venv\\lib\\site-packages\\bert\\run_classifier.py:774: The name tf.logging.info is deprecated. Please use tf.compat.v1.logging.info instead.\n",
      "\n",
      "INFO:tensorflow:Writing example 0 of 28588\n",
      "INFO:tensorflow:*** Example ***\n",
      "INFO:tensorflow:guid: None\n",
      "INFO:tensorflow:tokens: [CLS] dog ##ec ##oin [SEP]\n",
      "INFO:tensorflow:input_ids: 101 3899 8586 28765 102 0 0 0 0 0 0 0 0 0 0 0 0 0 0 0 0 0 0 0 0 0 0 0 0 0\n",
      "INFO:tensorflow:input_mask: 1 1 1 1 1 0 0 0 0 0 0 0 0 0 0 0 0 0 0 0 0 0 0 0 0 0 0 0 0 0\n",
      "INFO:tensorflow:segment_ids: 0 0 0 0 0 0 0 0 0 0 0 0 0 0 0 0 0 0 0 0 0 0 0 0 0 0 0 0 0 0\n",
      "INFO:tensorflow:label: -1 (id = 0)\n",
      "INFO:tensorflow:*** Example ***\n",
      "INFO:tensorflow:guid: None\n",
      "INFO:tensorflow:tokens: [CLS] first time better long time lu ##rke ##r turning that co ##vid st ##im ##y into straight rocket fuel [SEP]\n",
      "INFO:tensorflow:input_ids: 101 2034 2051 2488 2146 2051 11320 25074 2099 3810 2008 2522 17258 2358 5714 2100 2046 3442 7596 4762 102 0 0 0 0 0 0 0 0 0\n",
      "INFO:tensorflow:input_mask: 1 1 1 1 1 1 1 1 1 1 1 1 1 1 1 1 1 1 1 1 1 0 0 0 0 0 0 0 0 0\n",
      "INFO:tensorflow:segment_ids: 0 0 0 0 0 0 0 0 0 0 0 0 0 0 0 0 0 0 0 0 0 0 0 0 0 0 0 0 0 0\n",
      "INFO:tensorflow:label: 1 (id = 1)\n",
      "INFO:tensorflow:*** Example ***\n",
      "INFO:tensorflow:guid: None\n",
      "INFO:tensorflow:tokens: [CLS] more like robb ##ing the hood [SEP]\n",
      "INFO:tensorflow:input_ids: 101 2062 2066 26211 2075 1996 7415 102 0 0 0 0 0 0 0 0 0 0 0 0 0 0 0 0 0 0 0 0 0 0\n",
      "INFO:tensorflow:input_mask: 1 1 1 1 1 1 1 1 0 0 0 0 0 0 0 0 0 0 0 0 0 0 0 0 0 0 0 0 0 0\n",
      "INFO:tensorflow:segment_ids: 0 0 0 0 0 0 0 0 0 0 0 0 0 0 0 0 0 0 0 0 0 0 0 0 0 0 0 0 0 0\n",
      "INFO:tensorflow:label: -1 (id = 0)\n",
      "INFO:tensorflow:*** Example ***\n",
      "INFO:tensorflow:guid: None\n",
      "INFO:tensorflow:tokens: [CLS] just bought gm ##e on td am ##eri ##tra ##de [SEP]\n",
      "INFO:tensorflow:input_ids: 101 2074 4149 13938 2063 2006 14595 2572 11124 6494 3207 102 0 0 0 0 0 0 0 0 0 0 0 0 0 0 0 0 0 0\n",
      "INFO:tensorflow:input_mask: 1 1 1 1 1 1 1 1 1 1 1 1 0 0 0 0 0 0 0 0 0 0 0 0 0 0 0 0 0 0\n",
      "INFO:tensorflow:segment_ids: 0 0 0 0 0 0 0 0 0 0 0 0 0 0 0 0 0 0 0 0 0 0 0 0 0 0 0 0 0 0\n",
      "INFO:tensorflow:label: -1 (id = 0)\n",
      "INFO:tensorflow:*** Example ***\n",
      "INFO:tensorflow:guid: None\n",
      "INFO:tensorflow:tokens: [CLS] ii ##n with 69 420 shares like ##good re ##tar ##d [SEP]\n",
      "INFO:tensorflow:input_ids: 101 2462 2078 2007 6353 17442 6661 2066 24146 2128 7559 2094 102 0 0 0 0 0 0 0 0 0 0 0 0 0 0 0 0 0\n",
      "INFO:tensorflow:input_mask: 1 1 1 1 1 1 1 1 1 1 1 1 1 0 0 0 0 0 0 0 0 0 0 0 0 0 0 0 0 0\n",
      "INFO:tensorflow:segment_ids: 0 0 0 0 0 0 0 0 0 0 0 0 0 0 0 0 0 0 0 0 0 0 0 0 0 0 0 0 0 0\n",
      "INFO:tensorflow:label: -1 (id = 0)\n",
      "INFO:tensorflow:Writing example 10000 of 28588\n",
      "INFO:tensorflow:Writing example 20000 of 28588\n",
      "INFO:tensorflow:Writing example 0 of 7147\n",
      "INFO:tensorflow:*** Example ***\n",
      "INFO:tensorflow:guid: None\n",
      "INFO:tensorflow:tokens: [CLS] tried to buy the dip to 360 and web ##ull failed to fetch my order [SEP]\n",
      "INFO:tensorflow:input_ids: 101 2699 2000 4965 1996 16510 2000 9475 1998 4773 18083 3478 2000 18584 2026 2344 102 0 0 0 0 0 0 0 0 0 0 0 0 0\n",
      "INFO:tensorflow:input_mask: 1 1 1 1 1 1 1 1 1 1 1 1 1 1 1 1 1 0 0 0 0 0 0 0 0 0 0 0 0 0\n",
      "INFO:tensorflow:segment_ids: 0 0 0 0 0 0 0 0 0 0 0 0 0 0 0 0 0 0 0 0 0 0 0 0 0 0 0 0 0 0\n",
      "INFO:tensorflow:label: -1 (id = 0)\n",
      "INFO:tensorflow:*** Example ***\n",
      "INFO:tensorflow:guid: None\n",
      "INFO:tensorflow:tokens: [CLS] imagine if ##just bought in on the dip already seeing ##15 ##0 rebound [SEP]\n",
      "INFO:tensorflow:input_ids: 101 5674 2065 29427 4149 1999 2006 1996 16510 2525 3773 16068 2692 27755 102 0 0 0 0 0 0 0 0 0 0 0 0 0 0 0\n",
      "INFO:tensorflow:input_mask: 1 1 1 1 1 1 1 1 1 1 1 1 1 1 1 0 0 0 0 0 0 0 0 0 0 0 0 0 0 0\n",
      "INFO:tensorflow:segment_ids: 0 0 0 0 0 0 0 0 0 0 0 0 0 0 0 0 0 0 0 0 0 0 0 0 0 0 0 0 0 0\n",
      "INFO:tensorflow:label: -1 (id = 0)\n",
      "INFO:tensorflow:*** Example ***\n",
      "INFO:tensorflow:guid: None\n",
      "INFO:tensorflow:tokens: [CLS] in ##ov ##io the short ##ed peoples vaccine [SEP]\n",
      "INFO:tensorflow:input_ids: 101 1999 4492 3695 1996 2460 2098 7243 17404 102 0 0 0 0 0 0 0 0 0 0 0 0 0 0 0 0 0 0 0 0\n",
      "INFO:tensorflow:input_mask: 1 1 1 1 1 1 1 1 1 1 0 0 0 0 0 0 0 0 0 0 0 0 0 0 0 0 0 0 0 0\n",
      "INFO:tensorflow:segment_ids: 0 0 0 0 0 0 0 0 0 0 0 0 0 0 0 0 0 0 0 0 0 0 0 0 0 0 0 0 0 0\n",
      "INFO:tensorflow:label: -1 (id = 0)\n",
      "INFO:tensorflow:*** Example ***\n",
      "INFO:tensorflow:guid: None\n",
      "INFO:tensorflow:tokens: [CLS] how to get to the investments screen in ally [SEP]\n",
      "INFO:tensorflow:input_ids: 101 2129 2000 2131 2000 1996 10518 3898 1999 9698 102 0 0 0 0 0 0 0 0 0 0 0 0 0 0 0 0 0 0 0\n",
      "INFO:tensorflow:input_mask: 1 1 1 1 1 1 1 1 1 1 1 0 0 0 0 0 0 0 0 0 0 0 0 0 0 0 0 0 0 0\n",
      "INFO:tensorflow:segment_ids: 0 0 0 0 0 0 0 0 0 0 0 0 0 0 0 0 0 0 0 0 0 0 0 0 0 0 0 0 0 0\n",
      "INFO:tensorflow:label: -1 (id = 0)\n",
      "INFO:tensorflow:*** Example ***\n",
      "INFO:tensorflow:guid: None\n",
      "INFO:tensorflow:tokens: [CLS] fuck you vlad [SEP]\n",
      "INFO:tensorflow:input_ids: 101 6616 2017 19163 102 0 0 0 0 0 0 0 0 0 0 0 0 0 0 0 0 0 0 0 0 0 0 0 0 0\n",
      "INFO:tensorflow:input_mask: 1 1 1 1 1 0 0 0 0 0 0 0 0 0 0 0 0 0 0 0 0 0 0 0 0 0 0 0 0 0\n",
      "INFO:tensorflow:segment_ids: 0 0 0 0 0 0 0 0 0 0 0 0 0 0 0 0 0 0 0 0 0 0 0 0 0 0 0 0 0 0\n",
      "INFO:tensorflow:label: 1 (id = 1)\n",
      "INFO:tensorflow:Using config: {'_model_dir': 'output_title', '_tf_random_seed': None, '_save_summary_steps': 25, '_save_checkpoints_steps': 10000, '_save_checkpoints_secs': None, '_session_config': allow_soft_placement: true\n",
      "graph_options {\n",
      "  rewrite_options {\n",
      "    meta_optimizer_iterations: ONE\n",
      "  }\n",
      "}\n",
      ", '_keep_checkpoint_max': 5, '_keep_checkpoint_every_n_hours': 10000, '_log_step_count_steps': 100, '_train_distribute': None, '_device_fn': None, '_protocol': None, '_eval_distribute': None, '_experimental_distribute': None, '_experimental_max_worker_delay_secs': None, '_session_creation_timeout_secs': 7200, '_service': None, '_cluster_spec': <tensorflow.python.training.server_lib.ClusterSpec object at 0x0000022441A64A88>, '_task_type': 'worker', '_task_id': 0, '_global_id_in_cluster': 0, '_master': '', '_evaluation_master': '', '_is_chief': True, '_num_ps_replicas': 0, '_num_worker_replicas': 1}\n",
      "WARNING:tensorflow:From C:\\Users\\sluge\\Downloads\\CS594_new\\cs594_gme_sentiment\\venv\\lib\\site-packages\\tensorflow_core\\python\\training\\training_util.py:236: Variable.initialized_value (from tensorflow.python.ops.variables) is deprecated and will be removed in a future version.\n",
      "Instructions for updating:\n",
      "Use Variable.read_value. Variables in 2.X are initialized automatically both in eager and graph (inside tf.defun) contexts.\n",
      "INFO:tensorflow:Calling model_fn.\n",
      "INFO:tensorflow:Saver not created because there are no variables in the graph to restore\n",
      "WARNING:tensorflow:From <ipython-input-3-59be3d3235b8>:54: calling dropout (from tensorflow.python.ops.nn_ops) with keep_prob is deprecated and will be removed in a future version.\n",
      "Instructions for updating:\n",
      "Please use `rate` instead of `keep_prob`. Rate should be set to `rate = 1 - keep_prob`.\n",
      "WARNING:tensorflow:From C:\\Users\\sluge\\Downloads\\CS594_new\\cs594_gme_sentiment\\venv\\lib\\site-packages\\bert\\optimization.py:27: The name tf.train.get_or_create_global_step is deprecated. Please use tf.compat.v1.train.get_or_create_global_step instead.\n",
      "\n",
      "WARNING:tensorflow:From C:\\Users\\sluge\\Downloads\\CS594_new\\cs594_gme_sentiment\\venv\\lib\\site-packages\\bert\\optimization.py:32: The name tf.train.polynomial_decay is deprecated. Please use tf.compat.v1.train.polynomial_decay instead.\n",
      "\n",
      "WARNING:tensorflow:From C:\\Users\\sluge\\Downloads\\CS594_new\\cs594_gme_sentiment\\venv\\lib\\site-packages\\bert\\optimization.py:70: The name tf.trainable_variables is deprecated. Please use tf.compat.v1.trainable_variables instead.\n",
      "\n",
      "WARNING:tensorflow:From C:\\Users\\sluge\\Downloads\\CS594_new\\cs594_gme_sentiment\\venv\\lib\\site-packages\\tensorflow_core\\python\\ops\\math_grad.py:1375: where (from tensorflow.python.ops.array_ops) is deprecated and will be removed in a future version.\n",
      "Instructions for updating:\n",
      "Use tf.where in 2.0, which has the same broadcast rule as np.where\n",
      "WARNING:tensorflow:From C:\\Users\\sluge\\Downloads\\CS594_new\\cs594_gme_sentiment\\venv\\lib\\site-packages\\tensorflow_core\\python\\ops\\metrics_impl.py:2200: div (from tensorflow.python.ops.math_ops) is deprecated and will be removed in a future version.\n",
      "Instructions for updating:\n",
      "Deprecated in favor of operator or tf.math.divide.\n",
      "INFO:tensorflow:Done calling model_fn.\n",
      "INFO:tensorflow:Create CheckpointSaverHook.\n",
      "INFO:tensorflow:Graph was finalized.\n",
      "INFO:tensorflow:Restoring parameters from output_title\\model.ckpt-0\n",
      "WARNING:tensorflow:From C:\\Users\\sluge\\Downloads\\CS594_new\\cs594_gme_sentiment\\venv\\lib\\site-packages\\tensorflow_core\\python\\training\\saver.py:1069: get_checkpoint_mtimes (from tensorflow.python.training.checkpoint_management) is deprecated and will be removed in a future version.\n",
      "Instructions for updating:\n",
      "Use standard file utilities to get mtimes.\n",
      "INFO:tensorflow:Running local_init_op.\n",
      "INFO:tensorflow:Done running local_init_op.\n",
      "INFO:tensorflow:Saving checkpoints for 0 into output_title\\model.ckpt.\n",
      "INFO:tensorflow:loss = 0.74604166, step = 0\n",
      "INFO:tensorflow:global_step/sec: 4.77703\n",
      "INFO:tensorflow:loss = 0.4887124, step = 100 (20.935 sec)\n",
      "INFO:tensorflow:global_step/sec: 8.14524\n",
      "INFO:tensorflow:loss = 0.36844736, step = 200 (12.277 sec)\n",
      "INFO:tensorflow:global_step/sec: 8.1291\n",
      "INFO:tensorflow:loss = 0.4809116, step = 300 (12.301 sec)\n",
      "INFO:tensorflow:global_step/sec: 8.10861\n",
      "INFO:tensorflow:loss = 0.3271254, step = 400 (12.333 sec)\n",
      "INFO:tensorflow:global_step/sec: 7.95565\n",
      "INFO:tensorflow:loss = 0.15332586, step = 500 (12.569 sec)\n",
      "INFO:tensorflow:global_step/sec: 8.11946\n",
      "INFO:tensorflow:loss = 0.42929164, step = 600 (12.317 sec)\n",
      "INFO:tensorflow:global_step/sec: 8.1031\n",
      "INFO:tensorflow:loss = 0.51923215, step = 700 (12.340 sec)\n",
      "INFO:tensorflow:global_step/sec: 8.09152\n",
      "INFO:tensorflow:loss = 0.48389053, step = 800 (12.360 sec)\n",
      "INFO:tensorflow:global_step/sec: 8.05227\n",
      "INFO:tensorflow:loss = 0.41368145, step = 900 (12.419 sec)\n",
      "INFO:tensorflow:global_step/sec: 8.03362\n",
      "INFO:tensorflow:loss = 0.13034242, step = 1000 (12.447 sec)\n",
      "INFO:tensorflow:global_step/sec: 8.07591\n",
      "INFO:tensorflow:loss = 0.28457883, step = 1100 (12.384 sec)\n",
      "INFO:tensorflow:global_step/sec: 8.08011\n",
      "INFO:tensorflow:loss = 0.6076193, step = 1200 (12.376 sec)\n",
      "INFO:tensorflow:global_step/sec: 8.09135\n",
      "INFO:tensorflow:loss = 0.4966553, step = 1300 (12.359 sec)\n",
      "INFO:tensorflow:global_step/sec: 8.06272\n",
      "INFO:tensorflow:loss = 0.5413728, step = 1400 (12.402 sec)\n",
      "INFO:tensorflow:global_step/sec: 8.08152\n",
      "INFO:tensorflow:loss = 0.3537268, step = 1500 (12.375 sec)\n",
      "INFO:tensorflow:global_step/sec: 8.0784\n",
      "INFO:tensorflow:loss = 0.4751457, step = 1600 (12.378 sec)\n",
      "INFO:tensorflow:global_step/sec: 8.0913\n",
      "INFO:tensorflow:loss = 0.6151382, step = 1700 (12.363 sec)\n",
      "INFO:tensorflow:global_step/sec: 8.085\n",
      "INFO:tensorflow:loss = 0.35357517, step = 1800 (12.366 sec)\n",
      "INFO:tensorflow:global_step/sec: 8.02777\n",
      "INFO:tensorflow:loss = 0.47195107, step = 1900 (12.456 sec)\n",
      "INFO:tensorflow:global_step/sec: 8.08566\n",
      "INFO:tensorflow:loss = 0.39100337, step = 2000 (12.369 sec)\n",
      "INFO:tensorflow:global_step/sec: 8.07986\n",
      "INFO:tensorflow:loss = 0.2399168, step = 2100 (12.375 sec)\n",
      "INFO:tensorflow:global_step/sec: 8.04849\n",
      "INFO:tensorflow:loss = 0.54609925, step = 2200 (12.426 sec)\n",
      "INFO:tensorflow:global_step/sec: 7.9051\n",
      "INFO:tensorflow:loss = 0.59171844, step = 2300 (12.649 sec)\n",
      "INFO:tensorflow:global_step/sec: 7.91966\n",
      "INFO:tensorflow:loss = 0.29523802, step = 2400 (12.627 sec)\n",
      "INFO:tensorflow:global_step/sec: 7.89645\n",
      "INFO:tensorflow:loss = 0.41266507, step = 2500 (12.664 sec)\n",
      "INFO:tensorflow:global_step/sec: 8.04567\n",
      "INFO:tensorflow:loss = 0.42243916, step = 2600 (12.429 sec)\n",
      "INFO:tensorflow:global_step/sec: 8.07721\n",
      "INFO:tensorflow:loss = 0.5411729, step = 2700 (12.381 sec)\n",
      "INFO:tensorflow:global_step/sec: 8.06915\n",
      "INFO:tensorflow:loss = 0.33059323, step = 2800 (12.393 sec)\n",
      "INFO:tensorflow:global_step/sec: 8.0929\n",
      "INFO:tensorflow:loss = 0.5614239, step = 2900 (12.358 sec)\n",
      "INFO:tensorflow:global_step/sec: 8.08989\n",
      "INFO:tensorflow:loss = 0.63349175, step = 3000 (12.361 sec)\n",
      "INFO:tensorflow:global_step/sec: 8.08187\n",
      "INFO:tensorflow:loss = 0.30135408, step = 3100 (12.372 sec)\n",
      "INFO:tensorflow:global_step/sec: 8.09377\n",
      "INFO:tensorflow:loss = 0.35795432, step = 3200 (12.356 sec)\n",
      "INFO:tensorflow:global_step/sec: 8.08765\n",
      "INFO:tensorflow:loss = 0.50160724, step = 3300 (12.364 sec)\n",
      "INFO:tensorflow:global_step/sec: 8.09065\n",
      "INFO:tensorflow:loss = 0.3861205, step = 3400 (12.360 sec)\n",
      "INFO:tensorflow:global_step/sec: 8.08451\n",
      "INFO:tensorflow:loss = 0.20446639, step = 3500 (12.370 sec)\n",
      "INFO:tensorflow:global_step/sec: 8.10241\n",
      "INFO:tensorflow:loss = 0.62972414, step = 3600 (12.342 sec)\n",
      "INFO:tensorflow:global_step/sec: 8.07114\n",
      "INFO:tensorflow:loss = 0.08342616, step = 3700 (12.390 sec)\n",
      "INFO:tensorflow:global_step/sec: 8.06295\n",
      "INFO:tensorflow:loss = 0.27340025, step = 3800 (12.402 sec)\n",
      "INFO:tensorflow:global_step/sec: 8.08439\n",
      "INFO:tensorflow:loss = 0.17218974, step = 3900 (12.370 sec)\n",
      "INFO:tensorflow:global_step/sec: 8.09816\n",
      "INFO:tensorflow:loss = 0.0942045, step = 4000 (12.347 sec)\n",
      "INFO:tensorflow:global_step/sec: 8.10474\n",
      "INFO:tensorflow:loss = 0.4984573, step = 4100 (12.338 sec)\n",
      "INFO:tensorflow:global_step/sec: 8.10276\n",
      "INFO:tensorflow:loss = 0.024727039, step = 4200 (12.341 sec)\n",
      "INFO:tensorflow:global_step/sec: 8.1213\n",
      "INFO:tensorflow:loss = 0.1923599, step = 4300 (12.313 sec)\n",
      "INFO:tensorflow:global_step/sec: 8.11698\n",
      "INFO:tensorflow:loss = 0.3648403, step = 4400 (12.320 sec)\n",
      "INFO:tensorflow:global_step/sec: 8.09482\n",
      "INFO:tensorflow:loss = 0.13572244, step = 4500 (12.355 sec)\n",
      "INFO:tensorflow:global_step/sec: 7.92895\n",
      "INFO:tensorflow:loss = 0.16885374, step = 4600 (12.611 sec)\n",
      "INFO:tensorflow:global_step/sec: 8.88424\n",
      "INFO:tensorflow:loss = 0.3224773, step = 4700 (11.256 sec)\n",
      "INFO:tensorflow:global_step/sec: 7.95619\n",
      "INFO:tensorflow:loss = 0.01640477, step = 4800 (12.569 sec)\n",
      "INFO:tensorflow:global_step/sec: 7.95439\n",
      "INFO:tensorflow:loss = 0.21115194, step = 4900 (12.572 sec)\n",
      "INFO:tensorflow:global_step/sec: 8.04413\n",
      "INFO:tensorflow:loss = 0.01137395, step = 5000 (12.432 sec)\n",
      "INFO:tensorflow:global_step/sec: 7.94143\n",
      "INFO:tensorflow:loss = 0.84717566, step = 5100 (12.592 sec)\n",
      "INFO:tensorflow:global_step/sec: 8.00145\n",
      "INFO:tensorflow:loss = 0.15702274, step = 5200 (12.498 sec)\n",
      "INFO:tensorflow:global_step/sec: 7.96329\n",
      "INFO:tensorflow:loss = 0.031029124, step = 5300 (12.558 sec)\n",
      "INFO:tensorflow:Saving checkpoints for 5360 into output_title\\model.ckpt.\n",
      "INFO:tensorflow:Loss for final step: 0.467161.\n",
      "INFO:tensorflow:Calling model_fn.\n",
      "INFO:tensorflow:Saver not created because there are no variables in the graph to restore\n",
      "INFO:tensorflow:Done calling model_fn.\n",
      "INFO:tensorflow:Starting evaluation at 2021-04-11T12:13:46Z\n",
      "INFO:tensorflow:Graph was finalized.\n",
      "INFO:tensorflow:Restoring parameters from output_title\\model.ckpt-5360\n",
      "INFO:tensorflow:Running local_init_op.\n",
      "INFO:tensorflow:Done running local_init_op.\n",
      "INFO:tensorflow:Finished evaluation at 2021-04-11-12:14:02\n",
      "INFO:tensorflow:Saving dict for global step 5360: eval_accuracy = 0.7527634, false_negatives = 1031.0, false_positives = 736.0, global_step = 5360, loss = 0.81233513, precision = 0.3962264, recall = 0.31902245, true_negatives = 4897.0, true_positives = 483.0\n",
      "INFO:tensorflow:Saving 'checkpoint_path' summary for global step 5360: output_title\\model.ckpt-5360\n"
     ]
    },
    {
     "name": "stderr",
     "output_type": "stream",
     "text": [
      "INFO:tensorflow:Saver not created because there are no variables in the graph to restore\n",
      "WARNING:tensorflow:From C:\\Users\\sluge\\Downloads\\CS594_new\\cs594_gme_sentiment\\venv\\lib\\site-packages\\bert\\tokenization.py:125: The name tf.gfile.GFile is deprecated. Please use tf.io.gfile.GFile instead.\n",
      "\n",
      "WARNING:tensorflow:From C:\\Users\\sluge\\Downloads\\CS594_new\\cs594_gme_sentiment\\venv\\lib\\site-packages\\bert\\run_classifier.py:774: The name tf.logging.info is deprecated. Please use tf.compat.v1.logging.info instead.\n",
      "\n",
      "INFO:tensorflow:Writing example 0 of 28588\n",
      "INFO:tensorflow:*** Example ***\n",
      "INFO:tensorflow:guid: None\n",
      "INFO:tensorflow:tokens: [CLS] dog ##ec ##oin [SEP]\n",
      "INFO:tensorflow:input_ids: 101 3899 8586 28765 102 0 0 0 0 0 0 0 0 0 0 0 0 0 0 0 0 0 0 0 0 0 0 0 0 0\n",
      "INFO:tensorflow:input_mask: 1 1 1 1 1 0 0 0 0 0 0 0 0 0 0 0 0 0 0 0 0 0 0 0 0 0 0 0 0 0\n",
      "INFO:tensorflow:segment_ids: 0 0 0 0 0 0 0 0 0 0 0 0 0 0 0 0 0 0 0 0 0 0 0 0 0 0 0 0 0 0\n",
      "INFO:tensorflow:label: -1 (id = 0)\n",
      "INFO:tensorflow:*** Example ***\n",
      "INFO:tensorflow:guid: None\n",
      "INFO:tensorflow:tokens: [CLS] first time better long time lu ##rke ##r turning that co ##vid st ##im ##y into straight rocket fuel [SEP]\n",
      "INFO:tensorflow:input_ids: 101 2034 2051 2488 2146 2051 11320 25074 2099 3810 2008 2522 17258 2358 5714 2100 2046 3442 7596 4762 102 0 0 0 0 0 0 0 0 0\n",
      "INFO:tensorflow:input_mask: 1 1 1 1 1 1 1 1 1 1 1 1 1 1 1 1 1 1 1 1 1 0 0 0 0 0 0 0 0 0\n",
      "INFO:tensorflow:segment_ids: 0 0 0 0 0 0 0 0 0 0 0 0 0 0 0 0 0 0 0 0 0 0 0 0 0 0 0 0 0 0\n",
      "INFO:tensorflow:label: 1 (id = 1)\n",
      "INFO:tensorflow:*** Example ***\n",
      "INFO:tensorflow:guid: None\n",
      "INFO:tensorflow:tokens: [CLS] more like robb ##ing the hood [SEP]\n",
      "INFO:tensorflow:input_ids: 101 2062 2066 26211 2075 1996 7415 102 0 0 0 0 0 0 0 0 0 0 0 0 0 0 0 0 0 0 0 0 0 0\n",
      "INFO:tensorflow:input_mask: 1 1 1 1 1 1 1 1 0 0 0 0 0 0 0 0 0 0 0 0 0 0 0 0 0 0 0 0 0 0\n",
      "INFO:tensorflow:segment_ids: 0 0 0 0 0 0 0 0 0 0 0 0 0 0 0 0 0 0 0 0 0 0 0 0 0 0 0 0 0 0\n",
      "INFO:tensorflow:label: -1 (id = 0)\n",
      "INFO:tensorflow:*** Example ***\n",
      "INFO:tensorflow:guid: None\n",
      "INFO:tensorflow:tokens: [CLS] just bought gm ##e on td am ##eri ##tra ##de [SEP]\n",
      "INFO:tensorflow:input_ids: 101 2074 4149 13938 2063 2006 14595 2572 11124 6494 3207 102 0 0 0 0 0 0 0 0 0 0 0 0 0 0 0 0 0 0\n",
      "INFO:tensorflow:input_mask: 1 1 1 1 1 1 1 1 1 1 1 1 0 0 0 0 0 0 0 0 0 0 0 0 0 0 0 0 0 0\n",
      "INFO:tensorflow:segment_ids: 0 0 0 0 0 0 0 0 0 0 0 0 0 0 0 0 0 0 0 0 0 0 0 0 0 0 0 0 0 0\n",
      "INFO:tensorflow:label: -1 (id = 0)\n",
      "INFO:tensorflow:*** Example ***\n",
      "INFO:tensorflow:guid: None\n",
      "INFO:tensorflow:tokens: [CLS] ii ##n with 69 420 shares like ##good re ##tar ##d [SEP]\n",
      "INFO:tensorflow:input_ids: 101 2462 2078 2007 6353 17442 6661 2066 24146 2128 7559 2094 102 0 0 0 0 0 0 0 0 0 0 0 0 0 0 0 0 0\n",
      "INFO:tensorflow:input_mask: 1 1 1 1 1 1 1 1 1 1 1 1 1 0 0 0 0 0 0 0 0 0 0 0 0 0 0 0 0 0\n",
      "INFO:tensorflow:segment_ids: 0 0 0 0 0 0 0 0 0 0 0 0 0 0 0 0 0 0 0 0 0 0 0 0 0 0 0 0 0 0\n",
      "INFO:tensorflow:label: -1 (id = 0)\n",
      "INFO:tensorflow:Writing example 10000 of 28588\n",
      "INFO:tensorflow:Writing example 20000 of 28588\n",
      "INFO:tensorflow:Writing example 0 of 7147\n",
      "INFO:tensorflow:*** Example ***\n",
      "INFO:tensorflow:guid: None\n",
      "INFO:tensorflow:tokens: [CLS] tried to buy the dip to 360 and web ##ull failed to fetch my order [SEP]\n",
      "INFO:tensorflow:input_ids: 101 2699 2000 4965 1996 16510 2000 9475 1998 4773 18083 3478 2000 18584 2026 2344 102 0 0 0 0 0 0 0 0 0 0 0 0 0\n",
      "INFO:tensorflow:input_mask: 1 1 1 1 1 1 1 1 1 1 1 1 1 1 1 1 1 0 0 0 0 0 0 0 0 0 0 0 0 0\n",
      "INFO:tensorflow:segment_ids: 0 0 0 0 0 0 0 0 0 0 0 0 0 0 0 0 0 0 0 0 0 0 0 0 0 0 0 0 0 0\n",
      "INFO:tensorflow:label: -1 (id = 0)\n",
      "INFO:tensorflow:*** Example ***\n",
      "INFO:tensorflow:guid: None\n",
      "INFO:tensorflow:tokens: [CLS] imagine if ##just bought in on the dip already seeing ##15 ##0 rebound [SEP]\n",
      "INFO:tensorflow:input_ids: 101 5674 2065 29427 4149 1999 2006 1996 16510 2525 3773 16068 2692 27755 102 0 0 0 0 0 0 0 0 0 0 0 0 0 0 0\n",
      "INFO:tensorflow:input_mask: 1 1 1 1 1 1 1 1 1 1 1 1 1 1 1 0 0 0 0 0 0 0 0 0 0 0 0 0 0 0\n",
      "INFO:tensorflow:segment_ids: 0 0 0 0 0 0 0 0 0 0 0 0 0 0 0 0 0 0 0 0 0 0 0 0 0 0 0 0 0 0\n",
      "INFO:tensorflow:label: -1 (id = 0)\n",
      "INFO:tensorflow:*** Example ***\n",
      "INFO:tensorflow:guid: None\n",
      "INFO:tensorflow:tokens: [CLS] in ##ov ##io the short ##ed peoples vaccine [SEP]\n",
      "INFO:tensorflow:input_ids: 101 1999 4492 3695 1996 2460 2098 7243 17404 102 0 0 0 0 0 0 0 0 0 0 0 0 0 0 0 0 0 0 0 0\n",
      "INFO:tensorflow:input_mask: 1 1 1 1 1 1 1 1 1 1 0 0 0 0 0 0 0 0 0 0 0 0 0 0 0 0 0 0 0 0\n",
      "INFO:tensorflow:segment_ids: 0 0 0 0 0 0 0 0 0 0 0 0 0 0 0 0 0 0 0 0 0 0 0 0 0 0 0 0 0 0\n",
      "INFO:tensorflow:label: -1 (id = 0)\n",
      "INFO:tensorflow:*** Example ***\n",
      "INFO:tensorflow:guid: None\n",
      "INFO:tensorflow:tokens: [CLS] how to get to the investments screen in ally [SEP]\n",
      "INFO:tensorflow:input_ids: 101 2129 2000 2131 2000 1996 10518 3898 1999 9698 102 0 0 0 0 0 0 0 0 0 0 0 0 0 0 0 0 0 0 0\n",
      "INFO:tensorflow:input_mask: 1 1 1 1 1 1 1 1 1 1 1 0 0 0 0 0 0 0 0 0 0 0 0 0 0 0 0 0 0 0\n",
      "INFO:tensorflow:segment_ids: 0 0 0 0 0 0 0 0 0 0 0 0 0 0 0 0 0 0 0 0 0 0 0 0 0 0 0 0 0 0\n",
      "INFO:tensorflow:label: -1 (id = 0)\n",
      "INFO:tensorflow:*** Example ***\n",
      "INFO:tensorflow:guid: None\n",
      "INFO:tensorflow:tokens: [CLS] fuck you vlad [SEP]\n",
      "INFO:tensorflow:input_ids: 101 6616 2017 19163 102 0 0 0 0 0 0 0 0 0 0 0 0 0 0 0 0 0 0 0 0 0 0 0 0 0\n",
      "INFO:tensorflow:input_mask: 1 1 1 1 1 0 0 0 0 0 0 0 0 0 0 0 0 0 0 0 0 0 0 0 0 0 0 0 0 0\n",
      "INFO:tensorflow:segment_ids: 0 0 0 0 0 0 0 0 0 0 0 0 0 0 0 0 0 0 0 0 0 0 0 0 0 0 0 0 0 0\n",
      "INFO:tensorflow:label: 1 (id = 1)\n",
      "INFO:tensorflow:Using config: {'_model_dir': 'output_title', '_tf_random_seed': None, '_save_summary_steps': 25, '_save_checkpoints_steps': 10000, '_save_checkpoints_secs': None, '_session_config': allow_soft_placement: true\n",
      "graph_options {\n",
      "  rewrite_options {\n",
      "    meta_optimizer_iterations: ONE\n",
      "  }\n",
      "}\n",
      ", '_keep_checkpoint_max': 5, '_keep_checkpoint_every_n_hours': 10000, '_log_step_count_steps': 100, '_train_distribute': None, '_device_fn': None, '_protocol': None, '_eval_distribute': None, '_experimental_distribute': None, '_experimental_max_worker_delay_secs': None, '_session_creation_timeout_secs': 7200, '_service': None, '_cluster_spec': <tensorflow.python.training.server_lib.ClusterSpec object at 0x0000022441A64A88>, '_task_type': 'worker', '_task_id': 0, '_global_id_in_cluster': 0, '_master': '', '_evaluation_master': '', '_is_chief': True, '_num_ps_replicas': 0, '_num_worker_replicas': 1}\n",
      "WARNING:tensorflow:From C:\\Users\\sluge\\Downloads\\CS594_new\\cs594_gme_sentiment\\venv\\lib\\site-packages\\tensorflow_core\\python\\training\\training_util.py:236: Variable.initialized_value (from tensorflow.python.ops.variables) is deprecated and will be removed in a future version.\n",
      "Instructions for updating:\n",
      "Use Variable.read_value. Variables in 2.X are initialized automatically both in eager and graph (inside tf.defun) contexts.\n",
      "INFO:tensorflow:Calling model_fn.\n",
      "INFO:tensorflow:Saver not created because there are no variables in the graph to restore\n",
      "WARNING:tensorflow:From <ipython-input-3-59be3d3235b8>:54: calling dropout (from tensorflow.python.ops.nn_ops) with keep_prob is deprecated and will be removed in a future version.\n",
      "Instructions for updating:\n",
      "Please use `rate` instead of `keep_prob`. Rate should be set to `rate = 1 - keep_prob`.\n",
      "WARNING:tensorflow:From C:\\Users\\sluge\\Downloads\\CS594_new\\cs594_gme_sentiment\\venv\\lib\\site-packages\\bert\\optimization.py:27: The name tf.train.get_or_create_global_step is deprecated. Please use tf.compat.v1.train.get_or_create_global_step instead.\n",
      "\n",
      "WARNING:tensorflow:From C:\\Users\\sluge\\Downloads\\CS594_new\\cs594_gme_sentiment\\venv\\lib\\site-packages\\bert\\optimization.py:32: The name tf.train.polynomial_decay is deprecated. Please use tf.compat.v1.train.polynomial_decay instead.\n",
      "\n",
      "WARNING:tensorflow:From C:\\Users\\sluge\\Downloads\\CS594_new\\cs594_gme_sentiment\\venv\\lib\\site-packages\\bert\\optimization.py:70: The name tf.trainable_variables is deprecated. Please use tf.compat.v1.trainable_variables instead.\n",
      "\n",
      "WARNING:tensorflow:From C:\\Users\\sluge\\Downloads\\CS594_new\\cs594_gme_sentiment\\venv\\lib\\site-packages\\tensorflow_core\\python\\ops\\math_grad.py:1375: where (from tensorflow.python.ops.array_ops) is deprecated and will be removed in a future version.\n",
      "Instructions for updating:\n",
      "Use tf.where in 2.0, which has the same broadcast rule as np.where\n",
      "C:\\Users\\sluge\\Downloads\\CS594_new\\cs594_gme_sentiment\\venv\\lib\\site-packages\\tensorflow_core\\python\\framework\\indexed_slices.py:424: UserWarning: Converting sparse IndexedSlices to a dense Tensor of unknown shape. This may consume a large amount of memory.\n",
      "  \"Converting sparse IndexedSlices to a dense Tensor of unknown shape. \"\n",
      "WARNING:tensorflow:From C:\\Users\\sluge\\Downloads\\CS594_new\\cs594_gme_sentiment\\venv\\lib\\site-packages\\tensorflow_core\\python\\ops\\metrics_impl.py:2200: div (from tensorflow.python.ops.math_ops) is deprecated and will be removed in a future version.\n",
      "Instructions for updating:\n",
      "Deprecated in favor of operator or tf.math.divide.\n",
      "INFO:tensorflow:Done calling model_fn.\n",
      "INFO:tensorflow:Create CheckpointSaverHook.\n",
      "INFO:tensorflow:Graph was finalized.\n",
      "INFO:tensorflow:Restoring parameters from output_title\\model.ckpt-0\n",
      "WARNING:tensorflow:From C:\\Users\\sluge\\Downloads\\CS594_new\\cs594_gme_sentiment\\venv\\lib\\site-packages\\tensorflow_core\\python\\training\\saver.py:1069: get_checkpoint_mtimes (from tensorflow.python.training.checkpoint_management) is deprecated and will be removed in a future version.\n",
      "Instructions for updating:\n",
      "Use standard file utilities to get mtimes.\n",
      "INFO:tensorflow:Running local_init_op.\n",
      "INFO:tensorflow:Done running local_init_op.\n",
      "INFO:tensorflow:Saving checkpoints for 0 into output_title\\model.ckpt.\n",
      "INFO:tensorflow:loss = 0.74604166, step = 0\n",
      "INFO:tensorflow:global_step/sec: 4.77703\n",
      "INFO:tensorflow:loss = 0.4887124, step = 100 (20.935 sec)\n",
      "INFO:tensorflow:global_step/sec: 8.14524\n",
      "INFO:tensorflow:loss = 0.36844736, step = 200 (12.277 sec)\n",
      "INFO:tensorflow:global_step/sec: 8.1291\n",
      "INFO:tensorflow:loss = 0.4809116, step = 300 (12.301 sec)\n",
      "INFO:tensorflow:global_step/sec: 8.10861\n",
      "INFO:tensorflow:loss = 0.3271254, step = 400 (12.333 sec)\n",
      "INFO:tensorflow:global_step/sec: 7.95565\n",
      "INFO:tensorflow:loss = 0.15332586, step = 500 (12.569 sec)\n",
      "INFO:tensorflow:global_step/sec: 8.11946\n",
      "INFO:tensorflow:loss = 0.42929164, step = 600 (12.317 sec)\n",
      "INFO:tensorflow:global_step/sec: 8.1031\n",
      "INFO:tensorflow:loss = 0.51923215, step = 700 (12.340 sec)\n",
      "INFO:tensorflow:global_step/sec: 8.09152\n",
      "INFO:tensorflow:loss = 0.48389053, step = 800 (12.360 sec)\n",
      "INFO:tensorflow:global_step/sec: 8.05227\n",
      "INFO:tensorflow:loss = 0.41368145, step = 900 (12.419 sec)\n",
      "INFO:tensorflow:global_step/sec: 8.03362\n",
      "INFO:tensorflow:loss = 0.13034242, step = 1000 (12.447 sec)\n",
      "INFO:tensorflow:global_step/sec: 8.07591\n",
      "INFO:tensorflow:loss = 0.28457883, step = 1100 (12.384 sec)\n",
      "INFO:tensorflow:global_step/sec: 8.08011\n",
      "INFO:tensorflow:loss = 0.6076193, step = 1200 (12.376 sec)\n",
      "INFO:tensorflow:global_step/sec: 8.09135\n",
      "INFO:tensorflow:loss = 0.4966553, step = 1300 (12.359 sec)\n",
      "INFO:tensorflow:global_step/sec: 8.06272\n",
      "INFO:tensorflow:loss = 0.5413728, step = 1400 (12.402 sec)\n",
      "INFO:tensorflow:global_step/sec: 8.08152\n",
      "INFO:tensorflow:loss = 0.3537268, step = 1500 (12.375 sec)\n",
      "INFO:tensorflow:global_step/sec: 8.0784\n",
      "INFO:tensorflow:loss = 0.4751457, step = 1600 (12.378 sec)\n",
      "INFO:tensorflow:global_step/sec: 8.0913\n",
      "INFO:tensorflow:loss = 0.6151382, step = 1700 (12.363 sec)\n",
      "INFO:tensorflow:global_step/sec: 8.085\n",
      "INFO:tensorflow:loss = 0.35357517, step = 1800 (12.366 sec)\n",
      "INFO:tensorflow:global_step/sec: 8.02777\n",
      "INFO:tensorflow:loss = 0.47195107, step = 1900 (12.456 sec)\n",
      "INFO:tensorflow:global_step/sec: 8.08566\n",
      "INFO:tensorflow:loss = 0.39100337, step = 2000 (12.369 sec)\n",
      "INFO:tensorflow:global_step/sec: 8.07986\n",
      "INFO:tensorflow:loss = 0.2399168, step = 2100 (12.375 sec)\n",
      "INFO:tensorflow:global_step/sec: 8.04849\n",
      "INFO:tensorflow:loss = 0.54609925, step = 2200 (12.426 sec)\n",
      "INFO:tensorflow:global_step/sec: 7.9051\n",
      "INFO:tensorflow:loss = 0.59171844, step = 2300 (12.649 sec)\n",
      "INFO:tensorflow:global_step/sec: 7.91966\n",
      "INFO:tensorflow:loss = 0.29523802, step = 2400 (12.627 sec)\n",
      "INFO:tensorflow:global_step/sec: 7.89645\n",
      "INFO:tensorflow:loss = 0.41266507, step = 2500 (12.664 sec)\n",
      "INFO:tensorflow:global_step/sec: 8.04567\n",
      "INFO:tensorflow:loss = 0.42243916, step = 2600 (12.429 sec)\n",
      "INFO:tensorflow:global_step/sec: 8.07721\n",
      "INFO:tensorflow:loss = 0.5411729, step = 2700 (12.381 sec)\n",
      "INFO:tensorflow:global_step/sec: 8.06915\n",
      "INFO:tensorflow:loss = 0.33059323, step = 2800 (12.393 sec)\n",
      "INFO:tensorflow:global_step/sec: 8.0929\n",
      "INFO:tensorflow:loss = 0.5614239, step = 2900 (12.358 sec)\n",
      "INFO:tensorflow:global_step/sec: 8.08989\n",
      "INFO:tensorflow:loss = 0.63349175, step = 3000 (12.361 sec)\n",
      "INFO:tensorflow:global_step/sec: 8.08187\n",
      "INFO:tensorflow:loss = 0.30135408, step = 3100 (12.372 sec)\n",
      "INFO:tensorflow:global_step/sec: 8.09377\n",
      "INFO:tensorflow:loss = 0.35795432, step = 3200 (12.356 sec)\n",
      "INFO:tensorflow:global_step/sec: 8.08765\n",
      "INFO:tensorflow:loss = 0.50160724, step = 3300 (12.364 sec)\n",
      "INFO:tensorflow:global_step/sec: 8.09065\n",
      "INFO:tensorflow:loss = 0.3861205, step = 3400 (12.360 sec)\n",
      "INFO:tensorflow:global_step/sec: 8.08451\n",
      "INFO:tensorflow:loss = 0.20446639, step = 3500 (12.370 sec)\n",
      "INFO:tensorflow:global_step/sec: 8.10241\n",
      "INFO:tensorflow:loss = 0.62972414, step = 3600 (12.342 sec)\n",
      "INFO:tensorflow:global_step/sec: 8.07114\n",
      "INFO:tensorflow:loss = 0.08342616, step = 3700 (12.390 sec)\n",
      "INFO:tensorflow:global_step/sec: 8.06295\n",
      "INFO:tensorflow:loss = 0.27340025, step = 3800 (12.402 sec)\n",
      "INFO:tensorflow:global_step/sec: 8.08439\n",
      "INFO:tensorflow:loss = 0.17218974, step = 3900 (12.370 sec)\n",
      "INFO:tensorflow:global_step/sec: 8.09816\n",
      "INFO:tensorflow:loss = 0.0942045, step = 4000 (12.347 sec)\n",
      "INFO:tensorflow:global_step/sec: 8.10474\n",
      "INFO:tensorflow:loss = 0.4984573, step = 4100 (12.338 sec)\n",
      "INFO:tensorflow:global_step/sec: 8.10276\n",
      "INFO:tensorflow:loss = 0.024727039, step = 4200 (12.341 sec)\n",
      "INFO:tensorflow:global_step/sec: 8.1213\n",
      "INFO:tensorflow:loss = 0.1923599, step = 4300 (12.313 sec)\n",
      "INFO:tensorflow:global_step/sec: 8.11698\n",
      "INFO:tensorflow:loss = 0.3648403, step = 4400 (12.320 sec)\n",
      "INFO:tensorflow:global_step/sec: 8.09482\n",
      "INFO:tensorflow:loss = 0.13572244, step = 4500 (12.355 sec)\n",
      "INFO:tensorflow:global_step/sec: 7.92895\n",
      "INFO:tensorflow:loss = 0.16885374, step = 4600 (12.611 sec)\n",
      "INFO:tensorflow:global_step/sec: 8.88424\n",
      "INFO:tensorflow:loss = 0.3224773, step = 4700 (11.256 sec)\n",
      "INFO:tensorflow:global_step/sec: 7.95619\n",
      "INFO:tensorflow:loss = 0.01640477, step = 4800 (12.569 sec)\n",
      "INFO:tensorflow:global_step/sec: 7.95439\n",
      "INFO:tensorflow:loss = 0.21115194, step = 4900 (12.572 sec)\n",
      "INFO:tensorflow:global_step/sec: 8.04413\n",
      "INFO:tensorflow:loss = 0.01137395, step = 5000 (12.432 sec)\n",
      "INFO:tensorflow:global_step/sec: 7.94143\n",
      "INFO:tensorflow:loss = 0.84717566, step = 5100 (12.592 sec)\n",
      "INFO:tensorflow:global_step/sec: 8.00145\n",
      "INFO:tensorflow:loss = 0.15702274, step = 5200 (12.498 sec)\n",
      "INFO:tensorflow:global_step/sec: 7.96329\n",
      "INFO:tensorflow:loss = 0.031029124, step = 5300 (12.558 sec)\n",
      "INFO:tensorflow:Saving checkpoints for 5360 into output_title\\model.ckpt.\n",
      "INFO:tensorflow:Loss for final step: 0.467161.\n",
      "INFO:tensorflow:Calling model_fn.\n",
      "INFO:tensorflow:Saver not created because there are no variables in the graph to restore\n",
      "C:\\Users\\sluge\\Downloads\\CS594_new\\cs594_gme_sentiment\\venv\\lib\\site-packages\\tensorflow_core\\python\\framework\\indexed_slices.py:424: UserWarning: Converting sparse IndexedSlices to a dense Tensor of unknown shape. This may consume a large amount of memory.\n",
      "  \"Converting sparse IndexedSlices to a dense Tensor of unknown shape. \"\n",
      "INFO:tensorflow:Done calling model_fn.\n",
      "INFO:tensorflow:Starting evaluation at 2021-04-11T12:13:46Z\n",
      "INFO:tensorflow:Graph was finalized.\n",
      "INFO:tensorflow:Restoring parameters from output_title\\model.ckpt-5360\n",
      "INFO:tensorflow:Running local_init_op.\n",
      "INFO:tensorflow:Done running local_init_op.\n",
      "INFO:tensorflow:Finished evaluation at 2021-04-11-12:14:02\n",
      "INFO:tensorflow:Saving dict for global step 5360: eval_accuracy = 0.7527634, false_negatives = 1031.0, false_positives = 736.0, global_step = 5360, loss = 0.81233513, precision = 0.3962264, recall = 0.31902245, true_negatives = 4897.0, true_positives = 483.0\n",
      "INFO:tensorflow:Saving 'checkpoint_path' summary for global step 5360: output_title\\model.ckpt-5360\n"
     ]
    }
   ]
  },
  {
   "cell_type": "code",
   "execution_count": 10,
   "outputs": [
    {
     "data": {
      "text/plain": "                      values\neval_accuracy       0.752763\nfalse_negatives  1031.000000\nfalse_positives   736.000000\nloss                0.812335\nprecision           0.396226\nrecall              0.319022\ntrue_negatives   4897.000000\ntrue_positives    483.000000\nglobal_step      5360.000000",
      "text/html": "<div>\n<style scoped>\n    .dataframe tbody tr th:only-of-type {\n        vertical-align: middle;\n    }\n\n    .dataframe tbody tr th {\n        vertical-align: top;\n    }\n\n    .dataframe thead th {\n        text-align: right;\n    }\n</style>\n<table border=\"1\" class=\"dataframe\">\n  <thead>\n    <tr style=\"text-align: right;\">\n      <th></th>\n      <th>values</th>\n    </tr>\n  </thead>\n  <tbody>\n    <tr>\n      <th>eval_accuracy</th>\n      <td>0.752763</td>\n    </tr>\n    <tr>\n      <th>false_negatives</th>\n      <td>1031.000000</td>\n    </tr>\n    <tr>\n      <th>false_positives</th>\n      <td>736.000000</td>\n    </tr>\n    <tr>\n      <th>loss</th>\n      <td>0.812335</td>\n    </tr>\n    <tr>\n      <th>precision</th>\n      <td>0.396226</td>\n    </tr>\n    <tr>\n      <th>recall</th>\n      <td>0.319022</td>\n    </tr>\n    <tr>\n      <th>true_negatives</th>\n      <td>4897.000000</td>\n    </tr>\n    <tr>\n      <th>true_positives</th>\n      <td>483.000000</td>\n    </tr>\n    <tr>\n      <th>global_step</th>\n      <td>5360.000000</td>\n    </tr>\n  </tbody>\n</table>\n</div>"
     },
     "execution_count": 10,
     "metadata": {},
     "output_type": "execute_result"
    }
   ],
   "source": [
    "pretty_print(result_title)"
   ],
   "metadata": {
    "collapsed": false,
    "pycharm": {
     "name": "#%%\n"
    }
   }
  },
  {
   "cell_type": "markdown",
   "source": [
    "### Training: Body dataset"
   ],
   "metadata": {
    "collapsed": false,
    "pycharm": {
     "name": "#%% md\n"
    }
   }
  },
  {
   "cell_type": "code",
   "execution_count": 11,
   "outputs": [
    {
     "name": "stdout",
     "output_type": "stream",
     "text": [
      "INFO:tensorflow:Saver not created because there are no variables in the graph to restore\n",
      "INFO:tensorflow:Writing example 0 of 13677\n",
      "INFO:tensorflow:*** Example ***\n",
      "INFO:tensorflow:guid: None\n",
      "INFO:tensorflow:tokens: [CLS] don ##let em do it to you r ##h should be shut down ##ne ##ver touched the app ##use real broker ##ages from the start but ##bet your [SEP]\n",
      "INFO:tensorflow:input_ids: 101 2123 7485 7861 2079 2009 2000 2017 1054 2232 2323 2022 3844 2091 2638 6299 5028 1996 10439 8557 2613 20138 13923 2013 1996 2707 2021 20915 2115 102\n",
      "INFO:tensorflow:input_mask: 1 1 1 1 1 1 1 1 1 1 1 1 1 1 1 1 1 1 1 1 1 1 1 1 1 1 1 1 1 1\n",
      "INFO:tensorflow:segment_ids: 0 0 0 0 0 0 0 0 0 0 0 0 0 0 0 0 0 0 0 0 0 0 0 0 0 0 0 0 0 0\n",
      "INFO:tensorflow:label: -1 (id = 0)\n",
      "INFO:tensorflow:*** Example ***\n",
      "INFO:tensorflow:guid: None\n",
      "INFO:tensorflow:tokens: [CLS] buy gm ##e and amc now is our time rise up and buy [SEP]\n",
      "INFO:tensorflow:input_ids: 101 4965 13938 2063 1998 21962 2085 2003 2256 2051 4125 2039 1998 4965 102 0 0 0 0 0 0 0 0 0 0 0 0 0 0 0\n",
      "INFO:tensorflow:input_mask: 1 1 1 1 1 1 1 1 1 1 1 1 1 1 1 0 0 0 0 0 0 0 0 0 0 0 0 0 0 0\n",
      "INFO:tensorflow:segment_ids: 0 0 0 0 0 0 0 0 0 0 0 0 0 0 0 0 0 0 0 0 0 0 0 0 0 0 0 0 0 0\n",
      "INFO:tensorflow:label: 1 (id = 1)\n",
      "INFO:tensorflow:*** Example ***\n",
      "INFO:tensorflow:guid: None\n",
      "INFO:tensorflow:tokens: [CLS] looking at trader pro it showed the usual volume iv ##e seen for weeks now then today before the price jump at 230 ##pm it was around 400 [SEP]\n",
      "INFO:tensorflow:input_ids: 101 2559 2012 17667 4013 2009 3662 1996 5156 3872 4921 2063 2464 2005 3134 2085 2059 2651 2077 1996 3976 5376 2012 11816 9737 2009 2001 2105 4278 102\n",
      "INFO:tensorflow:input_mask: 1 1 1 1 1 1 1 1 1 1 1 1 1 1 1 1 1 1 1 1 1 1 1 1 1 1 1 1 1 1\n",
      "INFO:tensorflow:segment_ids: 0 0 0 0 0 0 0 0 0 0 0 0 0 0 0 0 0 0 0 0 0 0 0 0 0 0 0 0 0 0\n",
      "INFO:tensorflow:label: -1 (id = 0)\n",
      "INFO:tensorflow:*** Example ***\n",
      "INFO:tensorflow:guid: None\n",
      "INFO:tensorflow:tokens: [CLS] i know everybody is getting super excited about gm ##e amc no ##k or bb going but have you thought about taxes ##am not ##ta ##x advisor but [SEP]\n",
      "INFO:tensorflow:input_ids: 101 1045 2113 7955 2003 2893 3565 7568 2055 13938 2063 21962 2053 2243 2030 22861 2183 2021 2031 2017 2245 2055 7773 3286 2025 2696 2595 8619 2021 102\n",
      "INFO:tensorflow:input_mask: 1 1 1 1 1 1 1 1 1 1 1 1 1 1 1 1 1 1 1 1 1 1 1 1 1 1 1 1 1 1\n",
      "INFO:tensorflow:segment_ids: 0 0 0 0 0 0 0 0 0 0 0 0 0 0 0 0 0 0 0 0 0 0 0 0 0 0 0 0 0 0\n",
      "INFO:tensorflow:label: -1 (id = 0)\n",
      "INFO:tensorflow:*** Example ***\n",
      "INFO:tensorflow:guid: None\n",
      "INFO:tensorflow:tokens: [CLS] gm ##e to mars positions 40 [SEP]\n",
      "INFO:tensorflow:input_ids: 101 13938 2063 2000 7733 4460 2871 102 0 0 0 0 0 0 0 0 0 0 0 0 0 0 0 0 0 0 0 0 0 0\n",
      "INFO:tensorflow:input_mask: 1 1 1 1 1 1 1 1 0 0 0 0 0 0 0 0 0 0 0 0 0 0 0 0 0 0 0 0 0 0\n",
      "INFO:tensorflow:segment_ids: 0 0 0 0 0 0 0 0 0 0 0 0 0 0 0 0 0 0 0 0 0 0 0 0 0 0 0 0 0 0\n",
      "INFO:tensorflow:label: -1 (id = 0)\n",
      "INFO:tensorflow:Writing example 10000 of 13677\n",
      "INFO:tensorflow:Writing example 0 of 3420\n",
      "INFO:tensorflow:*** Example ***\n",
      "INFO:tensorflow:guid: None\n",
      "INFO:tensorflow:tokens: [CLS] for those who followed my n ##va ##x posts over the last few months and stayed with the trade congratulations for those looking for ##ne ##w trade ##wil [SEP]\n",
      "INFO:tensorflow:input_ids: 101 2005 2216 2040 2628 2026 1050 3567 2595 8466 2058 1996 2197 2261 2706 1998 4370 2007 1996 3119 23156 2005 2216 2559 2005 2638 2860 3119 29602 102\n",
      "INFO:tensorflow:input_mask: 1 1 1 1 1 1 1 1 1 1 1 1 1 1 1 1 1 1 1 1 1 1 1 1 1 1 1 1 1 1\n",
      "INFO:tensorflow:segment_ids: 0 0 0 0 0 0 0 0 0 0 0 0 0 0 0 0 0 0 0 0 0 0 0 0 0 0 0 0 0 0\n",
      "INFO:tensorflow:label: -1 (id = 0)\n",
      "INFO:tensorflow:*** Example ***\n",
      "INFO:tensorflow:guid: None\n",
      "INFO:tensorflow:tokens: [CLS] now ##m the king of the re ##tar ##ds oh the au ##tist vip ##ain ##rea ##ched the top but had to stop and that ##w ##hat bother [SEP]\n",
      "INFO:tensorflow:input_ids: 101 2085 2213 1996 2332 1997 1996 2128 7559 5104 2821 1996 8740 16774 21722 8113 16416 7690 1996 2327 2021 2018 2000 2644 1998 2008 2860 12707 8572 102\n",
      "INFO:tensorflow:input_mask: 1 1 1 1 1 1 1 1 1 1 1 1 1 1 1 1 1 1 1 1 1 1 1 1 1 1 1 1 1 1\n",
      "INFO:tensorflow:segment_ids: 0 0 0 0 0 0 0 0 0 0 0 0 0 0 0 0 0 0 0 0 0 0 0 0 0 0 0 0 0 0\n",
      "INFO:tensorflow:label: -1 (id = 0)\n",
      "INFO:tensorflow:*** Example ***\n",
      "INFO:tensorflow:guid: None\n",
      "INFO:tensorflow:tokens: [CLS] cash app do it boys [SEP]\n",
      "INFO:tensorflow:input_ids: 101 5356 10439 2079 2009 3337 102 0 0 0 0 0 0 0 0 0 0 0 0 0 0 0 0 0 0 0 0 0 0 0\n",
      "INFO:tensorflow:input_mask: 1 1 1 1 1 1 1 0 0 0 0 0 0 0 0 0 0 0 0 0 0 0 0 0 0 0 0 0 0 0\n",
      "INFO:tensorflow:segment_ids: 0 0 0 0 0 0 0 0 0 0 0 0 0 0 0 0 0 0 0 0 0 0 0 0 0 0 0 0 0 0\n",
      "INFO:tensorflow:label: -1 (id = 0)\n",
      "INFO:tensorflow:*** Example ***\n",
      "INFO:tensorflow:guid: None\n",
      "INFO:tensorflow:tokens: [CLS] after ##day like today everyone with an agenda monetary or otherwise will be viewing this sub like an under ##val ##ue ##d stock with massive short interest you [SEP]\n",
      "INFO:tensorflow:input_ids: 101 2044 10259 2066 2651 3071 2007 2019 11376 12194 2030 4728 2097 2022 10523 2023 4942 2066 2019 2104 10175 5657 2094 4518 2007 5294 2460 3037 2017 102\n",
      "INFO:tensorflow:input_mask: 1 1 1 1 1 1 1 1 1 1 1 1 1 1 1 1 1 1 1 1 1 1 1 1 1 1 1 1 1 1\n",
      "INFO:tensorflow:segment_ids: 0 0 0 0 0 0 0 0 0 0 0 0 0 0 0 0 0 0 0 0 0 0 0 0 0 0 0 0 0 0\n",
      "INFO:tensorflow:label: -1 (id = 0)\n",
      "INFO:tensorflow:*** Example ***\n",
      "INFO:tensorflow:guid: None\n",
      "INFO:tensorflow:tokens: [CLS] since the market opened all the hedge funds are on ##mon people we can ##let them win done ##ven dare to stop buying fuck robin ##hood there are [SEP]\n",
      "INFO:tensorflow:input_ids: 101 2144 1996 3006 2441 2035 1996 17834 5029 2024 2006 8202 2111 2057 2064 7485 2068 2663 2589 8159 8108 2000 2644 9343 6616 5863 9021 2045 2024 102\n",
      "INFO:tensorflow:input_mask: 1 1 1 1 1 1 1 1 1 1 1 1 1 1 1 1 1 1 1 1 1 1 1 1 1 1 1 1 1 1\n",
      "INFO:tensorflow:segment_ids: 0 0 0 0 0 0 0 0 0 0 0 0 0 0 0 0 0 0 0 0 0 0 0 0 0 0 0 0 0 0\n",
      "INFO:tensorflow:label: -1 (id = 0)\n",
      "INFO:tensorflow:Using config: {'_model_dir': 'output_body', '_tf_random_seed': None, '_save_summary_steps': 25, '_save_checkpoints_steps': 10000, '_save_checkpoints_secs': None, '_session_config': allow_soft_placement: true\n",
      "graph_options {\n",
      "  rewrite_options {\n",
      "    meta_optimizer_iterations: ONE\n",
      "  }\n",
      "}\n",
      ", '_keep_checkpoint_max': 5, '_keep_checkpoint_every_n_hours': 10000, '_log_step_count_steps': 100, '_train_distribute': None, '_device_fn': None, '_protocol': None, '_eval_distribute': None, '_experimental_distribute': None, '_experimental_max_worker_delay_secs': None, '_session_creation_timeout_secs': 7200, '_service': None, '_cluster_spec': <tensorflow.python.training.server_lib.ClusterSpec object at 0x000002244257B4C8>, '_task_type': 'worker', '_task_id': 0, '_global_id_in_cluster': 0, '_master': '', '_evaluation_master': '', '_is_chief': True, '_num_ps_replicas': 0, '_num_worker_replicas': 1}\n",
      "INFO:tensorflow:Calling model_fn.\n",
      "INFO:tensorflow:Saver not created because there are no variables in the graph to restore\n",
      "INFO:tensorflow:Done calling model_fn.\n",
      "INFO:tensorflow:Create CheckpointSaverHook.\n",
      "INFO:tensorflow:Graph was finalized.\n",
      "INFO:tensorflow:Running local_init_op.\n",
      "INFO:tensorflow:Done running local_init_op.\n",
      "INFO:tensorflow:Saving checkpoints for 0 into output_body\\model.ckpt.\n",
      "INFO:tensorflow:loss = 0.74085855, step = 0\n",
      "INFO:tensorflow:global_step/sec: 4.60673\n",
      "INFO:tensorflow:loss = 0.6578854, step = 100 (21.709 sec)\n",
      "INFO:tensorflow:global_step/sec: 7.98136\n",
      "INFO:tensorflow:loss = 0.55134916, step = 200 (12.529 sec)\n",
      "INFO:tensorflow:global_step/sec: 8.11866\n",
      "INFO:tensorflow:loss = 0.2272368, step = 300 (12.316 sec)\n",
      "INFO:tensorflow:global_step/sec: 7.94962\n",
      "INFO:tensorflow:loss = 0.5027448, step = 400 (12.580 sec)\n",
      "INFO:tensorflow:global_step/sec: 7.42232\n",
      "INFO:tensorflow:loss = 0.3580106, step = 500 (13.472 sec)\n",
      "INFO:tensorflow:global_step/sec: 8.04264\n",
      "INFO:tensorflow:loss = 0.4193938, step = 600 (12.434 sec)\n",
      "INFO:tensorflow:global_step/sec: 7.918\n",
      "INFO:tensorflow:loss = 0.3350407, step = 700 (12.629 sec)\n",
      "INFO:tensorflow:global_step/sec: 8.11062\n",
      "INFO:tensorflow:loss = 0.6120825, step = 800 (12.329 sec)\n",
      "INFO:tensorflow:global_step/sec: 8.11553\n",
      "INFO:tensorflow:loss = 0.35767606, step = 900 (12.322 sec)\n",
      "INFO:tensorflow:global_step/sec: 8.10747\n",
      "INFO:tensorflow:loss = 0.553768, step = 1000 (12.334 sec)\n",
      "INFO:tensorflow:global_step/sec: 8.1022\n",
      "INFO:tensorflow:loss = 0.14932954, step = 1100 (12.342 sec)\n",
      "INFO:tensorflow:global_step/sec: 8.109\n",
      "INFO:tensorflow:loss = 0.24872556, step = 1200 (12.333 sec)\n",
      "INFO:tensorflow:global_step/sec: 8.08391\n",
      "INFO:tensorflow:loss = 0.2686597, step = 1300 (12.369 sec)\n",
      "INFO:tensorflow:global_step/sec: 8.08565\n",
      "INFO:tensorflow:loss = 0.43519068, step = 1400 (12.368 sec)\n",
      "INFO:tensorflow:global_step/sec: 8.09625\n",
      "INFO:tensorflow:loss = 0.0726671, step = 1500 (12.351 sec)\n",
      "INFO:tensorflow:global_step/sec: 8.09301\n",
      "INFO:tensorflow:loss = 0.22217815, step = 1600 (12.356 sec)\n",
      "INFO:tensorflow:global_step/sec: 8.0864\n",
      "INFO:tensorflow:loss = 0.24112809, step = 1700 (12.366 sec)\n",
      "INFO:tensorflow:global_step/sec: 8.08689\n",
      "INFO:tensorflow:loss = 0.54093957, step = 1800 (12.367 sec)\n",
      "INFO:tensorflow:global_step/sec: 8.088\n",
      "INFO:tensorflow:loss = 0.18793225, step = 1900 (12.363 sec)\n",
      "INFO:tensorflow:global_step/sec: 8.10227\n",
      "INFO:tensorflow:loss = 0.043721993, step = 2000 (12.343 sec)\n",
      "INFO:tensorflow:global_step/sec: 8.09515\n",
      "INFO:tensorflow:loss = 0.14285508, step = 2100 (12.352 sec)\n",
      "INFO:tensorflow:global_step/sec: 7.97004\n",
      "INFO:tensorflow:loss = 0.06684942, step = 2200 (12.547 sec)\n",
      "INFO:tensorflow:global_step/sec: 6.83578\n",
      "INFO:tensorflow:loss = 0.040199645, step = 2300 (14.629 sec)\n",
      "INFO:tensorflow:global_step/sec: 7.33063\n",
      "INFO:tensorflow:loss = 0.06896881, step = 2400 (13.648 sec)\n",
      "INFO:tensorflow:global_step/sec: 7.27365\n",
      "INFO:tensorflow:loss = 0.011725559, step = 2500 (13.742 sec)\n",
      "INFO:tensorflow:Saving checkpoints for 2564 into output_body\\model.ckpt.\n",
      "INFO:tensorflow:Loss for final step: 0.06657546.\n",
      "INFO:tensorflow:Calling model_fn.\n",
      "INFO:tensorflow:Saver not created because there are no variables in the graph to restore\n",
      "INFO:tensorflow:Done calling model_fn.\n",
      "INFO:tensorflow:Starting evaluation at 2021-04-11T12:23:20Z\n",
      "INFO:tensorflow:Graph was finalized.\n",
      "INFO:tensorflow:Restoring parameters from output_body\\model.ckpt-2564\n",
      "INFO:tensorflow:Running local_init_op.\n",
      "INFO:tensorflow:Done running local_init_op.\n",
      "INFO:tensorflow:Finished evaluation at 2021-04-11-12:23:31\n",
      "INFO:tensorflow:Saving dict for global step 2564: eval_accuracy = 0.77573097, false_negatives = 486.0, false_positives = 281.0, global_step = 2564, loss = 0.7949408, precision = 0.45857418, recall = 0.32872927, true_negatives = 2415.0, true_positives = 238.0\n",
      "INFO:tensorflow:Saving 'checkpoint_path' summary for global step 2564: output_body\\model.ckpt-2564\n"
     ]
    },
    {
     "name": "stderr",
     "output_type": "stream",
     "text": [
      "INFO:tensorflow:Saver not created because there are no variables in the graph to restore\n",
      "INFO:tensorflow:Writing example 0 of 13677\n",
      "INFO:tensorflow:*** Example ***\n",
      "INFO:tensorflow:guid: None\n",
      "INFO:tensorflow:tokens: [CLS] don ##let em do it to you r ##h should be shut down ##ne ##ver touched the app ##use real broker ##ages from the start but ##bet your [SEP]\n",
      "INFO:tensorflow:input_ids: 101 2123 7485 7861 2079 2009 2000 2017 1054 2232 2323 2022 3844 2091 2638 6299 5028 1996 10439 8557 2613 20138 13923 2013 1996 2707 2021 20915 2115 102\n",
      "INFO:tensorflow:input_mask: 1 1 1 1 1 1 1 1 1 1 1 1 1 1 1 1 1 1 1 1 1 1 1 1 1 1 1 1 1 1\n",
      "INFO:tensorflow:segment_ids: 0 0 0 0 0 0 0 0 0 0 0 0 0 0 0 0 0 0 0 0 0 0 0 0 0 0 0 0 0 0\n",
      "INFO:tensorflow:label: -1 (id = 0)\n",
      "INFO:tensorflow:*** Example ***\n",
      "INFO:tensorflow:guid: None\n",
      "INFO:tensorflow:tokens: [CLS] buy gm ##e and amc now is our time rise up and buy [SEP]\n",
      "INFO:tensorflow:input_ids: 101 4965 13938 2063 1998 21962 2085 2003 2256 2051 4125 2039 1998 4965 102 0 0 0 0 0 0 0 0 0 0 0 0 0 0 0\n",
      "INFO:tensorflow:input_mask: 1 1 1 1 1 1 1 1 1 1 1 1 1 1 1 0 0 0 0 0 0 0 0 0 0 0 0 0 0 0\n",
      "INFO:tensorflow:segment_ids: 0 0 0 0 0 0 0 0 0 0 0 0 0 0 0 0 0 0 0 0 0 0 0 0 0 0 0 0 0 0\n",
      "INFO:tensorflow:label: 1 (id = 1)\n",
      "INFO:tensorflow:*** Example ***\n",
      "INFO:tensorflow:guid: None\n",
      "INFO:tensorflow:tokens: [CLS] looking at trader pro it showed the usual volume iv ##e seen for weeks now then today before the price jump at 230 ##pm it was around 400 [SEP]\n",
      "INFO:tensorflow:input_ids: 101 2559 2012 17667 4013 2009 3662 1996 5156 3872 4921 2063 2464 2005 3134 2085 2059 2651 2077 1996 3976 5376 2012 11816 9737 2009 2001 2105 4278 102\n",
      "INFO:tensorflow:input_mask: 1 1 1 1 1 1 1 1 1 1 1 1 1 1 1 1 1 1 1 1 1 1 1 1 1 1 1 1 1 1\n",
      "INFO:tensorflow:segment_ids: 0 0 0 0 0 0 0 0 0 0 0 0 0 0 0 0 0 0 0 0 0 0 0 0 0 0 0 0 0 0\n",
      "INFO:tensorflow:label: -1 (id = 0)\n",
      "INFO:tensorflow:*** Example ***\n",
      "INFO:tensorflow:guid: None\n",
      "INFO:tensorflow:tokens: [CLS] i know everybody is getting super excited about gm ##e amc no ##k or bb going but have you thought about taxes ##am not ##ta ##x advisor but [SEP]\n",
      "INFO:tensorflow:input_ids: 101 1045 2113 7955 2003 2893 3565 7568 2055 13938 2063 21962 2053 2243 2030 22861 2183 2021 2031 2017 2245 2055 7773 3286 2025 2696 2595 8619 2021 102\n",
      "INFO:tensorflow:input_mask: 1 1 1 1 1 1 1 1 1 1 1 1 1 1 1 1 1 1 1 1 1 1 1 1 1 1 1 1 1 1\n",
      "INFO:tensorflow:segment_ids: 0 0 0 0 0 0 0 0 0 0 0 0 0 0 0 0 0 0 0 0 0 0 0 0 0 0 0 0 0 0\n",
      "INFO:tensorflow:label: -1 (id = 0)\n",
      "INFO:tensorflow:*** Example ***\n",
      "INFO:tensorflow:guid: None\n",
      "INFO:tensorflow:tokens: [CLS] gm ##e to mars positions 40 [SEP]\n",
      "INFO:tensorflow:input_ids: 101 13938 2063 2000 7733 4460 2871 102 0 0 0 0 0 0 0 0 0 0 0 0 0 0 0 0 0 0 0 0 0 0\n",
      "INFO:tensorflow:input_mask: 1 1 1 1 1 1 1 1 0 0 0 0 0 0 0 0 0 0 0 0 0 0 0 0 0 0 0 0 0 0\n",
      "INFO:tensorflow:segment_ids: 0 0 0 0 0 0 0 0 0 0 0 0 0 0 0 0 0 0 0 0 0 0 0 0 0 0 0 0 0 0\n",
      "INFO:tensorflow:label: -1 (id = 0)\n",
      "INFO:tensorflow:Writing example 10000 of 13677\n",
      "INFO:tensorflow:Writing example 0 of 3420\n",
      "INFO:tensorflow:*** Example ***\n",
      "INFO:tensorflow:guid: None\n",
      "INFO:tensorflow:tokens: [CLS] for those who followed my n ##va ##x posts over the last few months and stayed with the trade congratulations for those looking for ##ne ##w trade ##wil [SEP]\n",
      "INFO:tensorflow:input_ids: 101 2005 2216 2040 2628 2026 1050 3567 2595 8466 2058 1996 2197 2261 2706 1998 4370 2007 1996 3119 23156 2005 2216 2559 2005 2638 2860 3119 29602 102\n",
      "INFO:tensorflow:input_mask: 1 1 1 1 1 1 1 1 1 1 1 1 1 1 1 1 1 1 1 1 1 1 1 1 1 1 1 1 1 1\n",
      "INFO:tensorflow:segment_ids: 0 0 0 0 0 0 0 0 0 0 0 0 0 0 0 0 0 0 0 0 0 0 0 0 0 0 0 0 0 0\n",
      "INFO:tensorflow:label: -1 (id = 0)\n",
      "INFO:tensorflow:*** Example ***\n",
      "INFO:tensorflow:guid: None\n",
      "INFO:tensorflow:tokens: [CLS] now ##m the king of the re ##tar ##ds oh the au ##tist vip ##ain ##rea ##ched the top but had to stop and that ##w ##hat bother [SEP]\n",
      "INFO:tensorflow:input_ids: 101 2085 2213 1996 2332 1997 1996 2128 7559 5104 2821 1996 8740 16774 21722 8113 16416 7690 1996 2327 2021 2018 2000 2644 1998 2008 2860 12707 8572 102\n",
      "INFO:tensorflow:input_mask: 1 1 1 1 1 1 1 1 1 1 1 1 1 1 1 1 1 1 1 1 1 1 1 1 1 1 1 1 1 1\n",
      "INFO:tensorflow:segment_ids: 0 0 0 0 0 0 0 0 0 0 0 0 0 0 0 0 0 0 0 0 0 0 0 0 0 0 0 0 0 0\n",
      "INFO:tensorflow:label: -1 (id = 0)\n",
      "INFO:tensorflow:*** Example ***\n",
      "INFO:tensorflow:guid: None\n",
      "INFO:tensorflow:tokens: [CLS] cash app do it boys [SEP]\n",
      "INFO:tensorflow:input_ids: 101 5356 10439 2079 2009 3337 102 0 0 0 0 0 0 0 0 0 0 0 0 0 0 0 0 0 0 0 0 0 0 0\n",
      "INFO:tensorflow:input_mask: 1 1 1 1 1 1 1 0 0 0 0 0 0 0 0 0 0 0 0 0 0 0 0 0 0 0 0 0 0 0\n",
      "INFO:tensorflow:segment_ids: 0 0 0 0 0 0 0 0 0 0 0 0 0 0 0 0 0 0 0 0 0 0 0 0 0 0 0 0 0 0\n",
      "INFO:tensorflow:label: -1 (id = 0)\n",
      "INFO:tensorflow:*** Example ***\n",
      "INFO:tensorflow:guid: None\n",
      "INFO:tensorflow:tokens: [CLS] after ##day like today everyone with an agenda monetary or otherwise will be viewing this sub like an under ##val ##ue ##d stock with massive short interest you [SEP]\n",
      "INFO:tensorflow:input_ids: 101 2044 10259 2066 2651 3071 2007 2019 11376 12194 2030 4728 2097 2022 10523 2023 4942 2066 2019 2104 10175 5657 2094 4518 2007 5294 2460 3037 2017 102\n",
      "INFO:tensorflow:input_mask: 1 1 1 1 1 1 1 1 1 1 1 1 1 1 1 1 1 1 1 1 1 1 1 1 1 1 1 1 1 1\n",
      "INFO:tensorflow:segment_ids: 0 0 0 0 0 0 0 0 0 0 0 0 0 0 0 0 0 0 0 0 0 0 0 0 0 0 0 0 0 0\n",
      "INFO:tensorflow:label: -1 (id = 0)\n",
      "INFO:tensorflow:*** Example ***\n",
      "INFO:tensorflow:guid: None\n",
      "INFO:tensorflow:tokens: [CLS] since the market opened all the hedge funds are on ##mon people we can ##let them win done ##ven dare to stop buying fuck robin ##hood there are [SEP]\n",
      "INFO:tensorflow:input_ids: 101 2144 1996 3006 2441 2035 1996 17834 5029 2024 2006 8202 2111 2057 2064 7485 2068 2663 2589 8159 8108 2000 2644 9343 6616 5863 9021 2045 2024 102\n",
      "INFO:tensorflow:input_mask: 1 1 1 1 1 1 1 1 1 1 1 1 1 1 1 1 1 1 1 1 1 1 1 1 1 1 1 1 1 1\n",
      "INFO:tensorflow:segment_ids: 0 0 0 0 0 0 0 0 0 0 0 0 0 0 0 0 0 0 0 0 0 0 0 0 0 0 0 0 0 0\n",
      "INFO:tensorflow:label: -1 (id = 0)\n",
      "INFO:tensorflow:Using config: {'_model_dir': 'output_body', '_tf_random_seed': None, '_save_summary_steps': 25, '_save_checkpoints_steps': 10000, '_save_checkpoints_secs': None, '_session_config': allow_soft_placement: true\n",
      "graph_options {\n",
      "  rewrite_options {\n",
      "    meta_optimizer_iterations: ONE\n",
      "  }\n",
      "}\n",
      ", '_keep_checkpoint_max': 5, '_keep_checkpoint_every_n_hours': 10000, '_log_step_count_steps': 100, '_train_distribute': None, '_device_fn': None, '_protocol': None, '_eval_distribute': None, '_experimental_distribute': None, '_experimental_max_worker_delay_secs': None, '_session_creation_timeout_secs': 7200, '_service': None, '_cluster_spec': <tensorflow.python.training.server_lib.ClusterSpec object at 0x000002244257B4C8>, '_task_type': 'worker', '_task_id': 0, '_global_id_in_cluster': 0, '_master': '', '_evaluation_master': '', '_is_chief': True, '_num_ps_replicas': 0, '_num_worker_replicas': 1}\n",
      "INFO:tensorflow:Calling model_fn.\n",
      "INFO:tensorflow:Saver not created because there are no variables in the graph to restore\n",
      "C:\\Users\\sluge\\Downloads\\CS594_new\\cs594_gme_sentiment\\venv\\lib\\site-packages\\tensorflow_core\\python\\framework\\indexed_slices.py:424: UserWarning: Converting sparse IndexedSlices to a dense Tensor of unknown shape. This may consume a large amount of memory.\n",
      "  \"Converting sparse IndexedSlices to a dense Tensor of unknown shape. \"\n",
      "INFO:tensorflow:Done calling model_fn.\n",
      "INFO:tensorflow:Create CheckpointSaverHook.\n",
      "INFO:tensorflow:Graph was finalized.\n",
      "INFO:tensorflow:Running local_init_op.\n",
      "INFO:tensorflow:Done running local_init_op.\n",
      "INFO:tensorflow:Saving checkpoints for 0 into output_body\\model.ckpt.\n",
      "INFO:tensorflow:loss = 0.74085855, step = 0\n",
      "INFO:tensorflow:global_step/sec: 4.60673\n",
      "INFO:tensorflow:loss = 0.6578854, step = 100 (21.709 sec)\n",
      "INFO:tensorflow:global_step/sec: 7.98136\n",
      "INFO:tensorflow:loss = 0.55134916, step = 200 (12.529 sec)\n",
      "INFO:tensorflow:global_step/sec: 8.11866\n",
      "INFO:tensorflow:loss = 0.2272368, step = 300 (12.316 sec)\n",
      "INFO:tensorflow:global_step/sec: 7.94962\n",
      "INFO:tensorflow:loss = 0.5027448, step = 400 (12.580 sec)\n",
      "INFO:tensorflow:global_step/sec: 7.42232\n",
      "INFO:tensorflow:loss = 0.3580106, step = 500 (13.472 sec)\n",
      "INFO:tensorflow:global_step/sec: 8.04264\n",
      "INFO:tensorflow:loss = 0.4193938, step = 600 (12.434 sec)\n",
      "INFO:tensorflow:global_step/sec: 7.918\n",
      "INFO:tensorflow:loss = 0.3350407, step = 700 (12.629 sec)\n",
      "INFO:tensorflow:global_step/sec: 8.11062\n",
      "INFO:tensorflow:loss = 0.6120825, step = 800 (12.329 sec)\n",
      "INFO:tensorflow:global_step/sec: 8.11553\n",
      "INFO:tensorflow:loss = 0.35767606, step = 900 (12.322 sec)\n",
      "INFO:tensorflow:global_step/sec: 8.10747\n",
      "INFO:tensorflow:loss = 0.553768, step = 1000 (12.334 sec)\n",
      "INFO:tensorflow:global_step/sec: 8.1022\n",
      "INFO:tensorflow:loss = 0.14932954, step = 1100 (12.342 sec)\n",
      "INFO:tensorflow:global_step/sec: 8.109\n",
      "INFO:tensorflow:loss = 0.24872556, step = 1200 (12.333 sec)\n",
      "INFO:tensorflow:global_step/sec: 8.08391\n",
      "INFO:tensorflow:loss = 0.2686597, step = 1300 (12.369 sec)\n",
      "INFO:tensorflow:global_step/sec: 8.08565\n",
      "INFO:tensorflow:loss = 0.43519068, step = 1400 (12.368 sec)\n",
      "INFO:tensorflow:global_step/sec: 8.09625\n",
      "INFO:tensorflow:loss = 0.0726671, step = 1500 (12.351 sec)\n",
      "INFO:tensorflow:global_step/sec: 8.09301\n",
      "INFO:tensorflow:loss = 0.22217815, step = 1600 (12.356 sec)\n",
      "INFO:tensorflow:global_step/sec: 8.0864\n",
      "INFO:tensorflow:loss = 0.24112809, step = 1700 (12.366 sec)\n",
      "INFO:tensorflow:global_step/sec: 8.08689\n",
      "INFO:tensorflow:loss = 0.54093957, step = 1800 (12.367 sec)\n",
      "INFO:tensorflow:global_step/sec: 8.088\n",
      "INFO:tensorflow:loss = 0.18793225, step = 1900 (12.363 sec)\n",
      "INFO:tensorflow:global_step/sec: 8.10227\n",
      "INFO:tensorflow:loss = 0.043721993, step = 2000 (12.343 sec)\n",
      "INFO:tensorflow:global_step/sec: 8.09515\n",
      "INFO:tensorflow:loss = 0.14285508, step = 2100 (12.352 sec)\n",
      "INFO:tensorflow:global_step/sec: 7.97004\n",
      "INFO:tensorflow:loss = 0.06684942, step = 2200 (12.547 sec)\n",
      "INFO:tensorflow:global_step/sec: 6.83578\n",
      "INFO:tensorflow:loss = 0.040199645, step = 2300 (14.629 sec)\n",
      "INFO:tensorflow:global_step/sec: 7.33063\n",
      "INFO:tensorflow:loss = 0.06896881, step = 2400 (13.648 sec)\n",
      "INFO:tensorflow:global_step/sec: 7.27365\n",
      "INFO:tensorflow:loss = 0.011725559, step = 2500 (13.742 sec)\n",
      "INFO:tensorflow:Saving checkpoints for 2564 into output_body\\model.ckpt.\n",
      "INFO:tensorflow:Loss for final step: 0.06657546.\n",
      "INFO:tensorflow:Calling model_fn.\n",
      "INFO:tensorflow:Saver not created because there are no variables in the graph to restore\n",
      "C:\\Users\\sluge\\Downloads\\CS594_new\\cs594_gme_sentiment\\venv\\lib\\site-packages\\tensorflow_core\\python\\framework\\indexed_slices.py:424: UserWarning: Converting sparse IndexedSlices to a dense Tensor of unknown shape. This may consume a large amount of memory.\n",
      "  \"Converting sparse IndexedSlices to a dense Tensor of unknown shape. \"\n",
      "INFO:tensorflow:Done calling model_fn.\n",
      "INFO:tensorflow:Starting evaluation at 2021-04-11T12:23:20Z\n",
      "INFO:tensorflow:Graph was finalized.\n",
      "INFO:tensorflow:Restoring parameters from output_body\\model.ckpt-2564\n",
      "INFO:tensorflow:Running local_init_op.\n",
      "INFO:tensorflow:Done running local_init_op.\n",
      "INFO:tensorflow:Finished evaluation at 2021-04-11-12:23:31\n",
      "INFO:tensorflow:Saving dict for global step 2564: eval_accuracy = 0.77573097, false_negatives = 486.0, false_positives = 281.0, global_step = 2564, loss = 0.7949408, precision = 0.45857418, recall = 0.32872927, true_negatives = 2415.0, true_positives = 238.0\n",
      "INFO:tensorflow:Saving 'checkpoint_path' summary for global step 2564: output_body\\model.ckpt-2564\n"
     ]
    }
   ],
   "source": [
    "OUTPUT_DIR = 'output_body'\n",
    "train_body, test_body = train_test_split(df_body, test_size=0.2, random_state=42)\n",
    "result_body, estimator_body, test_input_fn_body, label_list_body = run_on_dfs(train_body, test_body, **myparam)"
   ],
   "metadata": {
    "collapsed": false,
    "pycharm": {
     "name": "#%%\n"
    }
   }
  },
  {
   "cell_type": "code",
   "execution_count": 12,
   "outputs": [
    {
     "data": {
      "text/plain": "                      values\neval_accuracy       0.775731\nfalse_negatives   486.000000\nfalse_positives   281.000000\nloss                0.794941\nprecision           0.458574\nrecall              0.328729\ntrue_negatives   2415.000000\ntrue_positives    238.000000\nglobal_step      2564.000000",
      "text/html": "<div>\n<style scoped>\n    .dataframe tbody tr th:only-of-type {\n        vertical-align: middle;\n    }\n\n    .dataframe tbody tr th {\n        vertical-align: top;\n    }\n\n    .dataframe thead th {\n        text-align: right;\n    }\n</style>\n<table border=\"1\" class=\"dataframe\">\n  <thead>\n    <tr style=\"text-align: right;\">\n      <th></th>\n      <th>values</th>\n    </tr>\n  </thead>\n  <tbody>\n    <tr>\n      <th>eval_accuracy</th>\n      <td>0.775731</td>\n    </tr>\n    <tr>\n      <th>false_negatives</th>\n      <td>486.000000</td>\n    </tr>\n    <tr>\n      <th>false_positives</th>\n      <td>281.000000</td>\n    </tr>\n    <tr>\n      <th>loss</th>\n      <td>0.794941</td>\n    </tr>\n    <tr>\n      <th>precision</th>\n      <td>0.458574</td>\n    </tr>\n    <tr>\n      <th>recall</th>\n      <td>0.328729</td>\n    </tr>\n    <tr>\n      <th>true_negatives</th>\n      <td>2415.000000</td>\n    </tr>\n    <tr>\n      <th>true_positives</th>\n      <td>238.000000</td>\n    </tr>\n    <tr>\n      <th>global_step</th>\n      <td>2564.000000</td>\n    </tr>\n  </tbody>\n</table>\n</div>"
     },
     "execution_count": 12,
     "metadata": {},
     "output_type": "execute_result"
    }
   ],
   "source": [
    "pretty_print(result_body)"
   ],
   "metadata": {
    "collapsed": false,
    "pycharm": {
     "name": "#%%\n"
    }
   }
  },
  {
   "cell_type": "markdown",
   "source": [
    "### Training: All dataset"
   ],
   "metadata": {
    "collapsed": false
   }
  },
  {
   "cell_type": "code",
   "execution_count": null,
   "outputs": [],
   "source": [
    "# OUTPUT_DIR = 'output_all'\n",
    "# train_all, test_all = train_test_split(df_all, test_size=0.2, random_state=42)\n",
    "# result_all, estimator_all, test_input_fn_all, label_list_all = run_on_dfs(train_all, test_all, **myparam)"
   ],
   "metadata": {
    "collapsed": false,
    "pycharm": {
     "name": "#%%\n"
    }
   }
  },
  {
   "cell_type": "code",
   "execution_count": null,
   "outputs": [],
   "source": [
    "# pretty_print(result_all)"
   ],
   "metadata": {
    "collapsed": false,
    "pycharm": {
     "name": "#%%\n"
    }
   }
  },
  {
   "cell_type": "markdown",
   "source": [
    "# Evaluation\n",
    "### Evaluation: Title dataset"
   ],
   "metadata": {
    "collapsed": false,
    "pycharm": {
     "name": "#%% md\n"
    }
   }
  },
  {
   "cell_type": "code",
   "execution_count": 13,
   "outputs": [],
   "source": [
    "def validate(result, estimator, test_input_fn, label_list, train, test):\n",
    "    Y_pred = []\n",
    "    Y_test = test['label'].tolist()\n",
    "    pred_tf = estimator.predict(test_input_fn)\n",
    "    for (i, prediction) in enumerate(pred_tf):\n",
    "        probabilities = prediction[\"probabilities\"]\n",
    "        label = label_list[prediction[\"labels\"]]\n",
    "        Y_pred.append(label)\n",
    "    from sklearn.metrics import classification_report, accuracy_score\n",
    "    print(accuracy_score(np.array(Y_pred), np.array(Y_test)))\n",
    "    print(classification_report(np.array(Y_pred), np.array(Y_test), digits=4))"
   ],
   "metadata": {
    "collapsed": false,
    "pycharm": {
     "name": "#%%\n"
    }
   }
  },
  {
   "cell_type": "code",
   "execution_count": 14,
   "outputs": [
    {
     "name": "stdout",
     "output_type": "stream",
     "text": [
      "INFO:tensorflow:Calling model_fn.\n",
      "INFO:tensorflow:Saver not created because there are no variables in the graph to restore\n",
      "INFO:tensorflow:Done calling model_fn.\n",
      "INFO:tensorflow:Graph was finalized.\n",
      "INFO:tensorflow:Restoring parameters from output_title\\model.ckpt-5360\n",
      "INFO:tensorflow:Running local_init_op.\n",
      "INFO:tensorflow:Done running local_init_op.\n",
      "0.7529033160766755\n",
      "              precision    recall  f1-score   support\n",
      "\n",
      "          -1     0.8695    0.8261    0.8473      5929\n",
      "           1     0.3190    0.3966    0.3536      1218\n",
      "\n",
      "    accuracy                         0.7529      7147\n",
      "   macro avg     0.5943    0.6113    0.6004      7147\n",
      "weighted avg     0.7757    0.7529    0.7631      7147\n",
      "\n"
     ]
    },
    {
     "name": "stderr",
     "output_type": "stream",
     "text": [
      "INFO:tensorflow:Calling model_fn.\n",
      "INFO:tensorflow:Saver not created because there are no variables in the graph to restore\n",
      "INFO:tensorflow:Done calling model_fn.\n",
      "INFO:tensorflow:Graph was finalized.\n",
      "INFO:tensorflow:Restoring parameters from output_title\\model.ckpt-5360\n",
      "INFO:tensorflow:Running local_init_op.\n",
      "INFO:tensorflow:Done running local_init_op.\n"
     ]
    }
   ],
   "source": [
    "validate(result_title, estimator_title, test_input_fn_title, label_list_title, train_title, test_title)"
   ],
   "metadata": {
    "collapsed": false,
    "pycharm": {
     "name": "#%%\n"
    }
   }
  },
  {
   "cell_type": "markdown",
   "source": [
    "### Evaluation: Body dataset"
   ],
   "metadata": {
    "collapsed": false
   }
  },
  {
   "cell_type": "code",
   "execution_count": 15,
   "outputs": [
    {
     "name": "stdout",
     "output_type": "stream",
     "text": [
      "INFO:tensorflow:Calling model_fn.\n",
      "INFO:tensorflow:Saver not created because there are no variables in the graph to restore\n",
      "INFO:tensorflow:Done calling model_fn.\n",
      "INFO:tensorflow:Graph was finalized.\n",
      "INFO:tensorflow:Restoring parameters from output_body\\model.ckpt-2564\n",
      "INFO:tensorflow:Running local_init_op.\n",
      "INFO:tensorflow:Done running local_init_op.\n",
      "0.7751461988304094\n",
      "              precision    recall  f1-score   support\n",
      "\n",
      "          -1     0.8961    0.8317    0.8627      2905\n",
      "           1     0.3246    0.4563    0.3793       515\n",
      "\n",
      "    accuracy                         0.7751      3420\n",
      "   macro avg     0.6104    0.6440    0.6210      3420\n",
      "weighted avg     0.8101    0.7751    0.7899      3420\n",
      "\n"
     ]
    },
    {
     "name": "stderr",
     "output_type": "stream",
     "text": [
      "INFO:tensorflow:Calling model_fn.\n",
      "INFO:tensorflow:Saver not created because there are no variables in the graph to restore\n",
      "INFO:tensorflow:Done calling model_fn.\n",
      "INFO:tensorflow:Graph was finalized.\n",
      "INFO:tensorflow:Restoring parameters from output_body\\model.ckpt-2564\n",
      "INFO:tensorflow:Running local_init_op.\n",
      "INFO:tensorflow:Done running local_init_op.\n"
     ]
    }
   ],
   "source": [
    "validate(result_body, estimator_body, test_input_fn_body, label_list_body, train_body, test_body)"
   ],
   "metadata": {
    "collapsed": false,
    "pycharm": {
     "name": "#%%\n"
    }
   }
  },
  {
   "cell_type": "markdown",
   "source": [
    "### Evaluation: All dataset"
   ],
   "metadata": {
    "collapsed": false,
    "pycharm": {
     "name": "#%% md\n"
    }
   }
  },
  {
   "cell_type": "code",
   "source": [
    "# validate(result_all, estimator_all, test_input_fn_title, label_list_all, train_all, test_title)"
   ],
   "metadata": {
    "collapsed": false,
    "pycharm": {
     "name": "#%%\n"
    }
   },
   "execution_count": null,
   "outputs": []
  },
  {
   "cell_type": "code",
   "execution_count": null,
   "outputs": [],
   "source": [
    "# validate(result_all, estimator_all, test_input_fn_body, label_list_all, train_all, test_body)"
   ],
   "metadata": {
    "collapsed": false,
    "pycharm": {
     "name": "#%%\n"
    }
   }
  },
  {
   "cell_type": "code",
   "execution_count": null,
   "outputs": [],
   "source": [
    "# validate(result_all, estimator_all, test_input_fn_all, label_list_all, train_all, test_all)"
   ],
   "metadata": {
    "collapsed": false,
    "pycharm": {
     "name": "#%%\n"
    }
   }
  },
  {
   "cell_type": "markdown",
   "source": [
    "# Prediction"
   ],
   "metadata": {
    "collapsed": false
   }
  },
  {
   "cell_type": "code",
   "execution_count": null,
   "outputs": [],
   "source": [
    "# load test dataset\n",
    "title_test_cleanall = np.load('./TestData/features_title.npy', allow_pickle=True)\n",
    "body_test_cleanall = np.load('./TestData/features_body.npy', allow_pickle=True)\n",
    "title_dummy = []\n",
    "for i in range(len(title_test_cleanall)):\n",
    "    title_dummy.append(random.randint(-1, 1))\n",
    "body_dummy = []\n",
    "for i in range(len(body_test_cleanall)):\n",
    "    body_dummy.append(random.randint(-1, 1))\n",
    "df_title_test = pd.DataFrame({'label':title_dummy, 'text':title_test_cleanall})\n",
    "df_body_test = pd.DataFrame({'label':body_dummy, 'text':body_test_cleanall})"
   ],
   "metadata": {
    "collapsed": false,
    "pycharm": {
     "name": "#%%\n"
    }
   }
  },
  {
   "cell_type": "code",
   "execution_count": null,
   "outputs": [],
   "source": [
    "# df_title_test.head(30)"
   ],
   "metadata": {
    "collapsed": false,
    "pycharm": {
     "name": "#%%\n"
    }
   }
  },
  {
   "cell_type": "code",
   "source": [
    "def feature_predict_label(test, estimator, MAX_SEQ_LENGTH, label_list_train):\n",
    "    tokenizer = create_tokenizer_from_hub_module(\"https://tfhub.dev/google/bert_uncased_L-12_H-768_A-12/1\")\n",
    "    input_example = test.apply(lambda x: bert.run_classifier.InputExample(guid=None,\n",
    "                                                                   text_a = x[\"text\"],\n",
    "                                                                   text_b = None,\n",
    "                                                                   label = 0), axis = 1)\n",
    "    label_list = test[\"label\"].unique().tolist()\n",
    "    input_features = bert.run_classifier.convert_examples_to_features(input_example, label_list, MAX_SEQ_LENGTH, tokenizer)\n",
    "    predict_input_fn = run_classifier.input_fn_builder(features=input_features, seq_length=MAX_SEQ_LENGTH, is_training=False, drop_remainder=False)\n",
    "    pred_tf = estimator.predict(predict_input_fn)\n",
    "\n",
    "    Y_pred=[]\n",
    "    Y_prob=[]\n",
    "    for (i, prediction) in enumerate(pred_tf):\n",
    "        probabilities = prediction[\"probabilities\"]\n",
    "        labels = label_list_train[prediction[\"labels\"]]\n",
    "        Y_pred.append(labels)\n",
    "        Y_prob.append(probabilities)\n",
    "    return Y_pred, Y_prob"
   ],
   "metadata": {
    "collapsed": false,
    "pycharm": {
     "name": "#%%\n"
    }
   },
   "execution_count": null,
   "outputs": []
  },
  {
   "cell_type": "markdown",
   "source": [
    "### Predict Title test dataset and save the prediction"
   ],
   "metadata": {
    "collapsed": false,
    "pycharm": {
     "name": "#%% md\n"
    }
   }
  },
  {
   "cell_type": "code",
   "execution_count": null,
   "outputs": [],
   "source": [
    "# # Predict Obama test dataset with \"title\" Model\n",
    "# Y_title_pred = feature_predict_label(df_title_test, estimator_title, 30, label_list_title)\n",
    "# with open('obama.txt', 'w') as f:\n",
    "#     f.write(\"67_76_Charlie_Wang_Chieh-Hsi_Lin\\n\")\n",
    "#     for index, pred in enumerate(Y_title_pred[0]):\n",
    "#         f.write(\"{};;{}\\n\".format(index+1, pred))\n",
    "# f.close()\n",
    "#\n",
    "# # Predict Obama test dataset with \"All\" Model\n",
    "# Y_title_pred_all = feature_predict_label(df_title_test, estimator_all, 30, label_list_all)\n",
    "# with open('obama_all.txt', 'w') as f:\n",
    "#     for index, pred in enumerate(Y_title_pred_all[0]):\n",
    "#         f.write(\"{};;{}\\n\".format(index+1, pred))\n",
    "# f.close()"
   ],
   "metadata": {
    "collapsed": false,
    "pycharm": {
     "name": "#%%\n"
    }
   }
  },
  {
   "cell_type": "code",
   "source": [
    "len(Y_title_pred[0])"
   ],
   "metadata": {
    "collapsed": false,
    "pycharm": {
     "name": "#%%\n"
    }
   },
   "execution_count": null,
   "outputs": []
  },
  {
   "cell_type": "code",
   "execution_count": null,
   "outputs": [],
   "source": [
    "# print(accuracy_score(np.array(Y_title_pred[0]), np.array(df_title.label.values)))"
   ],
   "metadata": {
    "collapsed": false,
    "pycharm": {
     "name": "#%%\n"
    }
   }
  },
  {
   "cell_type": "markdown",
   "source": [
    "### Predict Body test dataset and save the prediction"
   ],
   "metadata": {
    "collapsed": false
   }
  },
  {
   "cell_type": "code",
   "execution_count": null,
   "outputs": [],
   "source": [
    "# # Predict Body test dataset with \"Body\" Model\n",
    "# Y_body_pred = feature_predict_label(df_body_test, estimator_body, 30, label_list_body)\n",
    "# with open('body.txt', 'w') as f:\n",
    "#     f.write(\"67_76_Charlie_Wang_Chieh-Hsi_Lin\\n\")\n",
    "#     for index, pred in enumerate(Y_body_pred[0]):\n",
    "#         f.write(\"{},,{}\\n\".format(index+1, pred))\n",
    "# f.close()\n",
    "#\n",
    "# # Predict Romney test dataset with \"All\" Model\n",
    "# Y_body_pred_all = feature_predict_label(df_body_test, estimator_all, 30, label_list_all)\n",
    "# with open('romney_all.txt', 'w') as f:\n",
    "#     for index, pred in enumerate(Y_body_pred_all[0]):\n",
    "#         f.write(\"{},,{}\\n\".format(index+1, pred))\n",
    "# f.close()"
   ],
   "metadata": {
    "collapsed": false,
    "pycharm": {
     "name": "#%%\n"
    }
   }
  },
  {
   "cell_type": "code",
   "execution_count": null,
   "outputs": [],
   "source": [
    "len(Y_body_pred[0])"
   ],
   "metadata": {
    "collapsed": false,
    "pycharm": {
     "name": "#%%\n"
    }
   }
  },
  {
   "cell_type": "code",
   "execution_count": null,
   "outputs": [],
   "source": [
    "print(accuracy_score(np.array(Y_body_pred[0]), np.array(df_body.label.values)))"
   ],
   "metadata": {
    "collapsed": false,
    "pycharm": {
     "name": "#%%\n"
    }
   }
  },
  {
   "cell_type": "markdown",
   "source": [
    "## utilities"
   ],
   "metadata": {
    "collapsed": false
   }
  },
  {
   "cell_type": "code",
   "execution_count": null,
   "outputs": [],
   "source": [
    "# pip install \"tensorflow>=1.15,<2.0\"\n",
    "# pip install --upgrade tensorflow-hub\n",
    "# pip install bert-tensorflow==1.0.1\n",
    "print(label_list_title)\n",
    "print(label_list_body)\n",
    "# print(label_list_all)"
   ],
   "metadata": {
    "collapsed": false,
    "pycharm": {
     "name": "#%%\n"
    }
   }
  },
  {
   "cell_type": "code",
   "execution_count": null,
   "outputs": [],
   "source": [
    "# df_title[\"label\"].unique().tolist()\n",
    "import os\n",
    "from tensorflow.python.client import device_lib\n",
    "os.environ[\"CUDA_VISIBLE_DEVICES\"] = \"\"\n",
    "print(device_lib.list_local_devices())\n",
    "import tensorflow as tf\n",
    "print(tf.__version__)"
   ],
   "metadata": {
    "collapsed": false,
    "pycharm": {
     "name": "#%%\n"
    }
   }
  },
  {
   "cell_type": "code",
   "execution_count": null,
   "outputs": [],
   "source": [
    "# Y_pred = []\n",
    "# Y_test = test['label'].tolist()\n",
    "# pred_tf = estimator.predict(test_input_fn)\n",
    "# label_dict = {\"0\":\"0\", \"1\":\"1\", \"2\":\"-1\"}\n",
    "# target_names = ['class 0', 'class 1', 'class 2']\n",
    "# for (i, prediction) in enumerate(pred_tf):\n",
    "#     probabilities = prediction[\"probabilities\"]\n",
    "#     label = label_dict[str(prediction[\"labels\"])]\n",
    "#     Y_pred.append(label)\n",
    "# from sklearn.metrics import classification_report, accuracy_score\n",
    "# print(accuracy_score(np.array(Y_pred), np.array(Y_test)))\n",
    "# print(classification_report(np.array(Y_pred), np.array(Y_test), digits=4))"
   ],
   "metadata": {
    "collapsed": false,
    "pycharm": {
     "name": "#%%\n"
    }
   }
  },
  {
   "cell_type": "code",
   "source": [
    "# train, test = train_test_split(df_title, test_size=0.2, random_state=583)"
   ],
   "metadata": {
    "collapsed": false,
    "pycharm": {
     "name": "#%%\n"
    }
   },
   "execution_count": null,
   "outputs": []
  },
  {
   "cell_type": "code",
   "execution_count": null,
   "outputs": [],
   "source": [
    "# tokenizer = create_tokenizer_from_hub_module(\"https://tfhub.dev/google/bert_uncased_L-12_H-768_A-12/1\")\n",
    "# test_features = make_features(test, label_list, 30, tokenizer, DATA_COLUMN=\"text\", LABEL_COLUMN=\"label\")\n",
    "# test_input_fn = run_classifier.input_fn_builder(\n",
    "#         features=test_features,\n",
    "#         seq_length=30,\n",
    "#         is_training=False,\n",
    "#         drop_remainder=False)"
   ],
   "metadata": {
    "collapsed": false,
    "pycharm": {
     "name": "#%%\n"
    }
   }
  },
  {
   "cell_type": "code",
   "execution_count": null,
   "outputs": [],
   "source": [
    "# Y_pred = []\n",
    "# Y_test = test['label'].tolist()\n",
    "# pred_tf = estimator.predict(test_input_fn)\n",
    "# target_names = ['class 0', 'class 1', 'class 2']\n",
    "# for (i, prediction) in enumerate(pred_tf):\n",
    "#     probabilities = prediction[\"probabilities\"]\n",
    "#     label = label_list[prediction[\"labels\"]]\n",
    "#     Y_pred.append(label)\n",
    "# from sklearn.metrics import classification_report, accuracy_score\n",
    "# print(accuracy_score(np.array(Y_pred), np.array(Y_test)))\n",
    "# print(classification_report(np.array(Y_pred), np.array(Y_test), digits=4))"
   ],
   "metadata": {
    "collapsed": false,
    "pycharm": {
     "name": "#%%\n"
    }
   }
  },
  {
   "cell_type": "code",
   "execution_count": null,
   "outputs": [],
   "source": [
    "# label_list\n",
    "def save_dataset(targets, tar_name):\n",
    "    print('Saving training dataset...')\n",
    "\n",
    "    #Create Saving Files\n",
    "    if not os.path.exists('/TrainData'):\n",
    "        os.makedirs('/TrainData')\n",
    "    np.save('C:/Users/sluge/Desktop/CS583/CS583_ResearchProject/TrainData/' + tar_name + '.npy', targets)\n",
    "\n",
    "    print('Saved parsed dataset')\n"
   ],
   "metadata": {
    "collapsed": false,
    "pycharm": {
     "name": "#%%\n"
    }
   }
  },
  {
   "cell_type": "code",
   "source": [
    "save_dataset(Y_title_pred[0], \"BERT_title_result\")\n",
    "save_dataset(Y_body_pred[0], \"BERT_body_result\")\n",
    "save_dataset(Y_title_pred_all[0], \"BERT_title_all_result\")\n",
    "save_dataset(Y_body_pred_all[0], \"BERT_body_all_result\")\n"
   ],
   "metadata": {
    "collapsed": false,
    "pycharm": {
     "name": "#%%\n"
    }
   },
   "execution_count": null,
   "outputs": []
  },
  {
   "cell_type": "code",
   "execution_count": null,
   "outputs": [],
   "source": [
    "body_svc_result = np.load('./TrainData/SVC_body_result.npy', allow_pickle=True)\n",
    "print(len(body_svc_result))\n",
    "\n",
    "print(accuracy_score(Y_body_pred[0], body_svc_result))\n",
    "print(classification_report(Y_body_pred[0], body_svc_result))"
   ],
   "metadata": {
    "collapsed": false,
    "pycharm": {
     "name": "#%%\n"
    }
   }
  },
  {
   "cell_type": "code",
   "execution_count": null,
   "outputs": [],
   "source": [
    "title_svc_result = np.load('./TrainData/SVC_title_result.npy', allow_pickle=True)\n",
    "print(len(title_svc_result))\n",
    "\n",
    "print(accuracy_score(Y_title_pred[0], title_svc_result))\n",
    "print(classification_report(Y_title_pred[0], title_svc_result))"
   ],
   "metadata": {
    "collapsed": false,
    "pycharm": {
     "name": "#%%\n"
    }
   }
  },
  {
   "cell_type": "code",
   "execution_count": null,
   "outputs": [],
   "source": [],
   "metadata": {
    "collapsed": false,
    "pycharm": {
     "name": "#%%\n"
    }
   }
  }
 ],
 "metadata": {
  "kernelspec": {
   "name": "pycharm-179761db",
   "language": "python",
   "display_name": "PyCharm (cs594_gme_sentiment)"
  },
  "language_info": {
   "codemirror_mode": {
    "name": "ipython",
    "version": 2
   },
   "file_extension": ".py",
   "mimetype": "text/x-python",
   "name": "python",
   "nbconvert_exporter": "python",
   "pygments_lexer": "ipython2",
   "version": "2.7.6"
  }
 },
 "nbformat": 4,
 "nbformat_minor": 0
}